{
 "cells": [
  {
   "cell_type": "code",
   "execution_count": 82,
   "metadata": {},
   "outputs": [],
   "source": [
    "import numpy as np\n",
    "from sklearn.model_selection import train_test_split \n",
    "from sklearn.model_selection import KFold \n",
    "import pandas as pd"
   ]
  },
  {
   "cell_type": "code",
   "execution_count": 83,
   "metadata": {},
   "outputs": [],
   "source": [
    "from sklearn import preprocessing\n",
    "d1 = pd.read_csv(\"data.csv\")\n",
    "d2=d1['phase']\n",
    "d3=d1.drop(['phase'], axis=1)\n",
    "d= preprocessing.normalize(d3,axis=0)\n",
    "df = pd.DataFrame(d)\n",
    "df.insert(0, 'phase', d2)"
   ]
  },
  {
   "cell_type": "code",
   "execution_count": 84,
   "metadata": {},
   "outputs": [],
   "source": [
    "kfold = KFold(3, True, 1)"
   ]
  },
  {
   "cell_type": "code",
   "execution_count": 85,
   "metadata": {},
   "outputs": [],
   "source": [
    "def gen(vec,diffn,diffr,mixingh,mixinge):\n",
    "    distance=[]\n",
    "    distance_1 = []\n",
    "    \n",
    "    distance.append(((vec-SS_grp[0].mean())**2+(diffn-SS_grp[1].mean())**2+(diffr-SS_grp[2].mean())**2+(mixingh-SS_grp[3].mean())**2+(mixinge-SS_grp[4].mean())**2)**0.5)\n",
    "    distance.append(((vec-AM_grp[0].mean())**2+(diffn-AM_grp[1].mean())**2+(diffr-AM_grp[2].mean())**2+(mixingh-AM_grp[3].mean())**2+(mixinge-AM_grp[4].mean())**2)**0.5)\n",
    "    distance.append(((vec-IM_grp[0].mean())**2+(diffn-IM_grp[1].mean())**2+(diffr-IM_grp[2].mean())**2+(mixingh-IM_grp[3].mean())**2+(mixinge-IM_grp[4].mean())**2)**0.5)\n",
    "    \n",
    "    distance_1 = [x for x in distance if ~np.isnan(x)]\n",
    "    \n",
    "    key = min(distance_1)\n",
    "    for i in range(0,3):\n",
    "        if key == distance[i]:\n",
    "             a = i\n",
    "    print(distance_1)\n",
    "    \n",
    "    if (a == 0):\n",
    "        a1=\"SS\"\n",
    "        return(a1)\n",
    "    elif(a == 1):\n",
    "        a2=\"AM\"\n",
    "        return(a2)\n",
    "    elif(a == 2):\n",
    "        a3=\"IM\"\n",
    "        return(a3)"
   ]
  },
  {
   "cell_type": "code",
   "execution_count": 86,
   "metadata": {},
   "outputs": [],
   "source": [
    "def make(train,test):\n",
    "    uniqueValues = train['phase'].unique()\n",
    "    grouped = train.groupby(train.phase)\n",
    "    SS_grp      = grouped.get_group(\"SS\")\n",
    "    AM_grp      = grouped.get_group(\"AM\")\n",
    "    IM_grp      = grouped.get_group(\"IM\")\n",
    "    count=0\n",
    "    total_comp=len(test)\n",
    "    for index,row in test.iterrows( ):\n",
    "        fav = gen(row[0],row[1],row[2],row[3],row[4])\n",
    "        if(fav == row['phase']):\n",
    "            count = count+1\n",
    "        print(fav)\n",
    "        print(row['phase'])\n",
    "\n",
    "    print(count)\n",
    "    print(total_comp)\n",
    "    print((count/total_comp)*100)"
   ]
  },
  {
   "cell_type": "code",
   "execution_count": 87,
   "metadata": {},
   "outputs": [
    {
     "ename": "AttributeError",
     "evalue": "module 'pandas' has no attribute 'data_range'",
     "output_type": "error",
     "traceback": [
      "\u001b[1;31m---------------------------------------------------------------------------\u001b[0m",
      "\u001b[1;31mAttributeError\u001b[0m                            Traceback (most recent call last)",
      "\u001b[1;32m<ipython-input-87-cd00c29ac1cf>\u001b[0m in \u001b[0;36m<module>\u001b[1;34m\u001b[0m\n\u001b[0;32m      1\u001b[0m \u001b[1;32mfor\u001b[0m \u001b[0mt\u001b[0m\u001b[1;33m,\u001b[0m \u001b[0mt1\u001b[0m \u001b[1;32min\u001b[0m \u001b[0mkfold\u001b[0m\u001b[1;33m.\u001b[0m\u001b[0msplit\u001b[0m\u001b[1;33m(\u001b[0m\u001b[0mdf\u001b[0m\u001b[1;33m)\u001b[0m\u001b[1;33m:\u001b[0m\u001b[1;33m\u001b[0m\u001b[1;33m\u001b[0m\u001b[0m\n\u001b[1;32m----> 2\u001b[1;33m     \u001b[0mdates\u001b[0m \u001b[1;33m=\u001b[0m \u001b[0mpd\u001b[0m\u001b[1;33m.\u001b[0m\u001b[0mdata_range\u001b[0m\u001b[1;33m(\u001b[0m\u001b[1;34m'0'\u001b[0m\u001b[1;33m,\u001b[0m \u001b[0mperiods\u001b[0m\u001b[1;33m=\u001b[0m\u001b[1;36m8\u001b[0m\u001b[1;33m)\u001b[0m\u001b[1;33m\u001b[0m\u001b[1;33m\u001b[0m\u001b[0m\n\u001b[0m\u001b[0;32m      3\u001b[0m     \u001b[0mtrain\u001b[0m \u001b[1;33m=\u001b[0m \u001b[0mpd\u001b[0m\u001b[1;33m.\u001b[0m\u001b[0mDataFrame\u001b[0m\u001b[1;33m(\u001b[0m\u001b[0mindex\u001b[0m\u001b[1;33m=\u001b[0m\u001b[0mt\u001b[0m\u001b[1;33m,\u001b[0m \u001b[0mcolumns\u001b[0m\u001b[1;33m=\u001b[0m\u001b[1;33m[\u001b[0m\u001b[1;34m'phase'\u001b[0m\u001b[1;33m,\u001b[0m \u001b[1;34m'0'\u001b[0m\u001b[1;33m,\u001b[0m \u001b[1;34m'1'\u001b[0m\u001b[1;33m,\u001b[0m \u001b[1;34m'2'\u001b[0m\u001b[1;33m,\u001b[0m\u001b[1;34m'3'\u001b[0m\u001b[1;33m,\u001b[0m\u001b[1;34m'4'\u001b[0m\u001b[1;33m]\u001b[0m\u001b[1;33m)\u001b[0m\u001b[1;33m\u001b[0m\u001b[1;33m\u001b[0m\u001b[0m\n\u001b[0;32m      4\u001b[0m     \u001b[0mprint\u001b[0m\u001b[1;33m(\u001b[0m\u001b[0mtrain\u001b[0m\u001b[1;33m)\u001b[0m\u001b[1;33m\u001b[0m\u001b[1;33m\u001b[0m\u001b[0m\n\u001b[0;32m      5\u001b[0m \u001b[1;33m\u001b[0m\u001b[0m\n",
      "\u001b[1;31mAttributeError\u001b[0m: module 'pandas' has no attribute 'data_range'"
     ]
    }
   ],
   "source": [
    "for t, t1 in kfold.split(df):\n",
    "    print((t,t1)\n",
    "    train = pd.DataFrame(index=t, columns=['phase', '0', '1', '2','3','4'])\n",
    "    print(train)\n",
    "                   \n",
    "       "
   ]
  },
  {
   "cell_type": "code",
   "execution_count": null,
   "metadata": {},
   "outputs": [],
   "source": []
  },
  {
   "cell_type": "code",
   "execution_count": null,
   "metadata": {},
   "outputs": [],
   "source": []
  }
 ],
 "metadata": {
  "kernelspec": {
   "display_name": "Python 3",
   "language": "python",
   "name": "python3"
  },
  "language_info": {
   "codemirror_mode": {
    "name": "ipython",
    "version": 3
   },
   "file_extension": ".py",
   "mimetype": "text/x-python",
   "name": "python",
   "nbconvert_exporter": "python",
   "pygments_lexer": "ipython3",
   "version": "3.7.1"
  }
 },
 "nbformat": 4,
 "nbformat_minor": 2
}
