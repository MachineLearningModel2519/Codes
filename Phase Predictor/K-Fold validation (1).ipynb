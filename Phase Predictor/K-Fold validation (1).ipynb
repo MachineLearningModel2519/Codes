{
 "cells": [
  {
   "cell_type": "code",
   "execution_count": 6,
   "metadata": {},
   "outputs": [],
   "source": [
    "import numpy as np\n",
    "from sklearn.model_selection import train_test_split \n",
    "from sklearn.model_selection import KFold \n",
    "import pandas as pd"
   ]
  },
  {
   "cell_type": "markdown",
   "metadata": {},
   "source": [
    "# Normalizing the Data"
   ]
  },
  {
   "cell_type": "code",
   "execution_count": 7,
   "metadata": {},
   "outputs": [],
   "source": [
    "from sklearn import preprocessing\n",
    "d1 = pd.read_csv(\"data.csv\")\n",
    "d2=d1['phase']\n",
    "d3=d1.drop(['phase'], axis=1)\n",
    "d= preprocessing.normalize(d3,axis=0)\n",
    "df = pd.DataFrame(d)\n",
    "df.insert(0, 'phase', d2)"
   ]
  },
  {
   "cell_type": "code",
   "execution_count": 8,
   "metadata": {},
   "outputs": [
    {
     "name": "stderr",
     "output_type": "stream",
     "text": [
      "C:\\Users\\DELL\\anaconda3\\lib\\site-packages\\sklearn\\utils\\validation.py:68: FutureWarning: Pass shuffle=True as keyword args. From version 0.25 passing these as positional arguments will result in an error\n",
      "  warnings.warn(\"Pass {} as keyword args. From version 0.25 \"\n"
     ]
    }
   ],
   "source": [
    "kfold = KFold(5, True)"
   ]
  },
  {
   "cell_type": "markdown",
   "metadata": {},
   "source": [
    "# Function to Predicte Mean value and comparing distances"
   ]
  },
  {
   "cell_type": "code",
   "execution_count": 9,
   "metadata": {},
   "outputs": [],
   "source": [
    "def gen(vec,diffn,diffr,mixingh,mixinge):\n",
    "    distance=[]\n",
    "    distance_1 = []\n",
    "    \n",
    "    distance.append(((vec-SS_grp[0].mean())**2+(diffn-SS_grp[1].mean())**2+(diffr-SS_grp[2].mean())**2+(mixingh-SS_grp[3].mean())**2+(mixinge-SS_grp[4].mean())**2)**0.5)\n",
    "    distance.append(((vec-AM_grp[0].mean())**2+(diffn-AM_grp[1].mean())**2+(diffr-AM_grp[2].mean())**2+(mixingh-AM_grp[3].mean())**2+(mixinge-AM_grp[4].mean())**2)**0.5)\n",
    "    distance.append(((vec-IM_grp[0].mean())**2+(diffn-IM_grp[1].mean())**2+(diffr-IM_grp[2].mean())**2+(mixingh-IM_grp[3].mean())**2+(mixinge-IM_grp[4].mean())**2)**0.5)\n",
    "    \n",
    "    distance_1 = [x for x in distance if ~np.isnan(x)]\n",
    "    \n",
    "    key = min(distance_1)\n",
    "    for i in range(0,3):\n",
    "        if key == distance[i]:\n",
    "             a = i\n",
    "   # print(distance_1)\n",
    "    \n",
    "    if (a == 0):\n",
    "        a1=\"SS\"\n",
    "        return(a1)\n",
    "    elif(a == 1):\n",
    "        a2=\"AM\"\n",
    "        return(a2)\n",
    "    elif(a == 2):\n",
    "        a3=\"IM\"\n",
    "        return(a3)"
   ]
  },
  {
   "cell_type": "markdown",
   "metadata": {},
   "source": [
    "# K-cross Validation"
   ]
  },
  {
   "cell_type": "code",
   "execution_count": 10,
   "metadata": {},
   "outputs": [
    {
     "name": "stdout",
     "output_type": "stream",
     "text": [
      "Next Result:\n",
      "91.66666666666666\n",
      "Next Result:\n",
      "79.16666666666666\n",
      "Next Result:\n",
      "62.5\n",
      "Next Result:\n",
      "83.33333333333334\n",
      "Next Result:\n",
      "82.6086956521739\n"
     ]
    }
   ],
   "source": [
    "i=0\n",
    "for t, t1 in kfold.split(df):    \n",
    "    train = df.loc[t]\n",
    "    test = df.loc[t1]\n",
    "    uniqueValues = train['phase'].unique()\n",
    "    grouped = train.groupby(train.phase)\n",
    "    SS_grp      = grouped.get_group(\"SS\")\n",
    "    AM_grp      = grouped.get_group(\"AM\")\n",
    "    IM_grp      = grouped.get_group(\"IM\")\n",
    "    count=0\n",
    "    total_comp=len(test)\n",
    "    for index,row in test.iterrows( ):\n",
    "        fav = gen(row[0],row[1],row[2],row[3],row[4])\n",
    "        if(fav == row['phase']):\n",
    "            count = count+1\n",
    "    print(\"Next Result:\")\n",
    "    print((count/total_comp)*100)\n",
    "    \n",
    "    "
   ]
  }
 ],
 "metadata": {
  "kernelspec": {
   "display_name": "Python 3",
   "language": "python",
   "name": "python3"
  },
  "language_info": {
   "codemirror_mode": {
    "name": "ipython",
    "version": 3
   },
   "file_extension": ".py",
   "mimetype": "text/x-python",
   "name": "python",
   "nbconvert_exporter": "python",
   "pygments_lexer": "ipython3",
   "version": "3.8.3"
  }
 },
 "nbformat": 4,
 "nbformat_minor": 2
}
