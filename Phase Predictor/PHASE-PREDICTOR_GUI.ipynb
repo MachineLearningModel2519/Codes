{
 "cells": [
  {
   "cell_type": "code",
   "execution_count": 1,
   "metadata": {},
   "outputs": [],
   "source": [
    "import numpy as np\n",
    "from sklearn.model_selection import train_test_split \n",
    "from sklearn.model_selection import KFold \n",
    "import pandas as pd"
   ]
  },
  {
   "cell_type": "markdown",
   "metadata": {},
   "source": [
    "# Normalizing the Data"
   ]
  },
  {
   "cell_type": "code",
   "execution_count": 2,
   "metadata": {},
   "outputs": [],
   "source": [
    "from sklearn import preprocessing\n",
    "d1 = pd.read_csv(\"data.csv\")\n",
    "d2=d1['phase']\n",
    "d3=d1.drop(['phase'], axis=1)\n",
    "d= preprocessing.normalize(d3,axis=0)\n",
    "df = pd.DataFrame(d)\n",
    "df.insert(0, 'phase', d2)\n",
    "train, test = train_test_split(df, test_size = 0.2, random_state = 1)"
   ]
  },
  {
   "cell_type": "markdown",
   "metadata": {},
   "source": [
    "# Function to Find mean values and comparing distances"
   ]
  },
  {
   "cell_type": "code",
   "execution_count": 3,
   "metadata": {},
   "outputs": [],
   "source": [
    "def phase_predictor(vec,diffn,diffr,mixingh,mixinge):\n",
    "    \n",
    "    uniqueValues = train['phase'].unique()\n",
    "    grouped = train.groupby(train.phase)\n",
    "    SS_grp  = grouped.get_group(\"SS\")\n",
    "    AM_grp  = grouped.get_group(\"AM\")\n",
    "    IM_grp  = grouped.get_group(\"IM\")\n",
    "    distance=[]\n",
    "    distance_1 = []\n",
    "    \n",
    "    distance.append(((vec-SS_grp[0].mean())**2+(diffn-SS_grp[1].mean())**2+(diffr-SS_grp[2].mean())**2+(mixingh-SS_grp[3].mean())**2+(mixinge-SS_grp[4].mean())**2)**0.5)\n",
    "    distance.append(((vec-AM_grp[0].mean())**2+(diffn-AM_grp[1].mean())**2+(diffr-AM_grp[2].mean())**2+(mixingh-AM_grp[3].mean())**2+(mixinge-AM_grp[4].mean())**2)**0.5)\n",
    "    distance.append(((vec-IM_grp[0].mean())**2+(diffn-IM_grp[1].mean())**2+(diffr-IM_grp[2].mean())**2+(mixingh-IM_grp[3].mean())**2+(mixinge-IM_grp[4].mean())**2)**0.5)\n",
    "    \n",
    "    distance_1 = [x for x in distance if ~np.isnan(x)]\n",
    "    \n",
    "    key = min(distance_1)\n",
    "    for i in range(0,3):\n",
    "        if key == distance[i]:\n",
    "             a = i\n",
    "    #print(distance)\n",
    "    print(distance_1) \n",
    "    \n",
    "    if (a == 0):\n",
    "        a1=\"SS\"\n",
    "        return(a1)\n",
    "    elif(a == 1):\n",
    "        a2=\"AM\"\n",
    "        return(a2)\n",
    "    elif(a == 2):\n",
    "        a3=\"IM\"\n",
    "        return(a3)\n",
    "    \n",
    "    \n"
   ]
  },
  {
   "cell_type": "markdown",
   "metadata": {},
   "source": [
    "# GUI Code"
   ]
  },
  {
   "cell_type": "code",
   "execution_count": null,
   "metadata": {},
   "outputs": [],
   "source": [
    "import tkinter as tk \n",
    "from functools import partial \n",
    "r = tk.Tk() \n",
    "r.title('Phase Predictor') \n",
    "myLabel = tk.Label(r,text=\"Phase Predictor\",font=(\"Times New Roman\", 35)) \n",
    "r.geometry(\"400x250\")  \n",
    "def interface_function(label_result,n1, n2, n3, n4, n5):\n",
    "    num1=float(n1.get())\n",
    "    num2=float(n2.get())\n",
    "    num3=float(n3.get())\n",
    "    num4=float(n4.get())\n",
    "    num5=float(n5.get())\n",
    "    result = phase_predictor(num1,num2,num3,num4,num5)\n",
    "    label_result.config(text=\"Predicted Phase = %s\" %result)  \n",
    "    return  \n",
    "    \n",
    "number1 = tk.StringVar()  \n",
    "number2 = tk.StringVar()  \n",
    "number3 = tk.StringVar()  \n",
    "number4 = tk.StringVar()    \n",
    "number5 = tk.StringVar()  \n",
    "\n",
    "vec = tk.Label(r, text = \"Valence Electron Concentration\").place(x = 650,y = 300)  \n",
    "diffn = tk.Label(r, text = \"Pauling Negativities Difference\").place(x = 650, y = 340)  \n",
    "diffr = tk.Label(r, text = \"Atomic size difference\").place(x = 650, y = 380) \n",
    "mixingh=tk.Label(r, text = \"Mixing Entropy \").place(x = 650, y = 420)\n",
    "mixinge=tk.Label(r, text = \"Mixing Enthalpy\").place(x = 650, y = 460)\n",
    "labelResult = tk.Label(r)\n",
    "labelResult.place(x = 700 , y = 550)  \n",
    "e1 = tk.Entry(r , textvariable=number1).place(x = 830, y = 300) \n",
    "e2 = tk.Entry(r , textvariable=number2).place(x = 830, y = 340)  \n",
    "e3 = tk.Entry(r , textvariable=number3).place(x =830 , y = 380)  \n",
    "e4 = tk.Entry(r , textvariable=number4).place(x = 830, y = 420)\n",
    "e5 = tk.Entry(r , textvariable=number5).place(x = 830, y = 460)\n",
    "interface_function = partial(interface_function,labelResult, number1, number2, number3, number4, number5) \n",
    "button = tk.Button(r, text='Submit',command=interface_function).place(x=920,y=500) \n",
    "myLabel.pack( )\n",
    "r.mainloop()"
   ]
  },
  {
   "cell_type": "code",
   "execution_count": null,
   "metadata": {},
   "outputs": [],
   "source": []
  }
 ],
 "metadata": {
  "kernelspec": {
   "display_name": "Python 3",
   "language": "python",
   "name": "python3"
  },
  "language_info": {
   "codemirror_mode": {
    "name": "ipython",
    "version": 3
   },
   "file_extension": ".py",
   "mimetype": "text/x-python",
   "name": "python",
   "nbconvert_exporter": "python",
   "pygments_lexer": "ipython3",
   "version": "3.8.3"
  }
 },
 "nbformat": 4,
 "nbformat_minor": 4
}
