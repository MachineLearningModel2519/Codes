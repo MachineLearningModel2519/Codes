{
 "cells": [
  {
   "cell_type": "code",
   "execution_count": 84,
   "metadata": {},
   "outputs": [],
   "source": [
    "import numpy as np\n",
    "from sklearn.model_selection import train_test_split\n",
    "import pandas as pd"
   ]
  },
  {
   "cell_type": "code",
   "execution_count": 85,
   "metadata": {},
   "outputs": [
    {
     "data": {
      "text/html": [
       "<div>\n",
       "<style scoped>\n",
       "    .dataframe tbody tr th:only-of-type {\n",
       "        vertical-align: middle;\n",
       "    }\n",
       "\n",
       "    .dataframe tbody tr th {\n",
       "        vertical-align: top;\n",
       "    }\n",
       "\n",
       "    .dataframe thead th {\n",
       "        text-align: right;\n",
       "    }\n",
       "</style>\n",
       "<table border=\"1\" class=\"dataframe\">\n",
       "  <thead>\n",
       "    <tr style=\"text-align: right;\">\n",
       "      <th></th>\n",
       "      <th>Alloy</th>\n",
       "      <th>Tg</th>\n",
       "      <th>Tx</th>\n",
       "      <th>Tl</th>\n",
       "      <th>Dmax</th>\n",
       "      <th>Heating_Rate-1</th>\n",
       "      <th>Heating_Rate-2</th>\n",
       "      <th>Fabrication_Method</th>\n",
       "    </tr>\n",
       "  </thead>\n",
       "  <tbody>\n",
       "    <tr>\n",
       "      <th>0</th>\n",
       "      <td>Cu55Zr42.5Ga2.5</td>\n",
       "      <td>709.0</td>\n",
       "      <td>762.0</td>\n",
       "      <td>1199.0</td>\n",
       "      <td>1.0</td>\n",
       "      <td>0.67</td>\n",
       "      <td>0.17</td>\n",
       "      <td>Cu mold</td>\n",
       "    </tr>\n",
       "    <tr>\n",
       "      <th>1</th>\n",
       "      <td>Cu57.5Zr37.5Ga5</td>\n",
       "      <td>745.0</td>\n",
       "      <td>785.0</td>\n",
       "      <td>1241.0</td>\n",
       "      <td>1.0</td>\n",
       "      <td>0.67</td>\n",
       "      <td>0.17</td>\n",
       "      <td>Cu mold</td>\n",
       "    </tr>\n",
       "    <tr>\n",
       "      <th>2</th>\n",
       "      <td>Cu52.5Zr40Ga7.5</td>\n",
       "      <td>744.0</td>\n",
       "      <td>777.0</td>\n",
       "      <td>1218.0</td>\n",
       "      <td>1.5</td>\n",
       "      <td>0.67</td>\n",
       "      <td>0.17</td>\n",
       "      <td>Cu mold</td>\n",
       "    </tr>\n",
       "    <tr>\n",
       "      <th>3</th>\n",
       "      <td>Cu55Zr40Ga5</td>\n",
       "      <td>736.0</td>\n",
       "      <td>779.0</td>\n",
       "      <td>1193.0</td>\n",
       "      <td>2.0</td>\n",
       "      <td>0.67</td>\n",
       "      <td>0.17</td>\n",
       "      <td>Cu mold</td>\n",
       "    </tr>\n",
       "    <tr>\n",
       "      <th>4</th>\n",
       "      <td>Cu52.5Zr42.5Ga5</td>\n",
       "      <td>733.0</td>\n",
       "      <td>777.0</td>\n",
       "      <td>1187.0</td>\n",
       "      <td>2.0</td>\n",
       "      <td>0.67</td>\n",
       "      <td>0.17</td>\n",
       "      <td>Cu mold</td>\n",
       "    </tr>\n",
       "    <tr>\n",
       "      <th>...</th>\n",
       "      <td>...</td>\n",
       "      <td>...</td>\n",
       "      <td>...</td>\n",
       "      <td>...</td>\n",
       "      <td>...</td>\n",
       "      <td>...</td>\n",
       "      <td>...</td>\n",
       "      <td>...</td>\n",
       "    </tr>\n",
       "    <tr>\n",
       "      <th>589</th>\n",
       "      <td>(Fe0.72Tb0.03B0.2Si0.05)96Nb4</td>\n",
       "      <td>860.0</td>\n",
       "      <td>940.0</td>\n",
       "      <td>1422.0</td>\n",
       "      <td>3.0</td>\n",
       "      <td>0.67</td>\n",
       "      <td>0.067</td>\n",
       "      <td>Cu mold</td>\n",
       "    </tr>\n",
       "    <tr>\n",
       "      <th>590</th>\n",
       "      <td>(Fe0.71Tb0.04B0.2Si0.05)96Nb4</td>\n",
       "      <td>869.0</td>\n",
       "      <td>969.0</td>\n",
       "      <td>1397.0</td>\n",
       "      <td>3.5</td>\n",
       "      <td>0.67</td>\n",
       "      <td>0.067</td>\n",
       "      <td>Cu mold</td>\n",
       "    </tr>\n",
       "    <tr>\n",
       "      <th>591</th>\n",
       "      <td>(Fe0.70Tb0.05B0.2Si0.05)96Nb4</td>\n",
       "      <td>935.0</td>\n",
       "      <td>995.0</td>\n",
       "      <td>1396.0</td>\n",
       "      <td>3.5</td>\n",
       "      <td>0.67</td>\n",
       "      <td>0.067</td>\n",
       "      <td>Cu mold</td>\n",
       "    </tr>\n",
       "    <tr>\n",
       "      <th>592</th>\n",
       "      <td>(Fe0.69Tb0.06B0.2Si0.05)96Nb4</td>\n",
       "      <td>952.0</td>\n",
       "      <td>1012.0</td>\n",
       "      <td>1411.0</td>\n",
       "      <td>3.0</td>\n",
       "      <td>0.67</td>\n",
       "      <td>0.067</td>\n",
       "      <td>Cu mold</td>\n",
       "    </tr>\n",
       "    <tr>\n",
       "      <th>593</th>\n",
       "      <td>(Fe0.68Tb0.07B0.2Si0.05)96Nb4</td>\n",
       "      <td>959.0</td>\n",
       "      <td>1019.0</td>\n",
       "      <td>1438.0</td>\n",
       "      <td>2.0</td>\n",
       "      <td>0.67</td>\n",
       "      <td>0.067</td>\n",
       "      <td>Cu mold</td>\n",
       "    </tr>\n",
       "  </tbody>\n",
       "</table>\n",
       "<p>594 rows × 8 columns</p>\n",
       "</div>"
      ],
      "text/plain": [
       "                             Alloy     Tg      Tx      Tl  Dmax  \\\n",
       "0                  Cu55Zr42.5Ga2.5  709.0   762.0  1199.0   1.0   \n",
       "1                  Cu57.5Zr37.5Ga5  745.0   785.0  1241.0   1.0   \n",
       "2                  Cu52.5Zr40Ga7.5  744.0   777.0  1218.0   1.5   \n",
       "3                      Cu55Zr40Ga5  736.0   779.0  1193.0   2.0   \n",
       "4                  Cu52.5Zr42.5Ga5  733.0   777.0  1187.0   2.0   \n",
       "..                             ...    ...     ...     ...   ...   \n",
       "589  (Fe0.72Tb0.03B0.2Si0.05)96Nb4  860.0   940.0  1422.0   3.0   \n",
       "590  (Fe0.71Tb0.04B0.2Si0.05)96Nb4  869.0   969.0  1397.0   3.5   \n",
       "591  (Fe0.70Tb0.05B0.2Si0.05)96Nb4  935.0   995.0  1396.0   3.5   \n",
       "592  (Fe0.69Tb0.06B0.2Si0.05)96Nb4  952.0  1012.0  1411.0   3.0   \n",
       "593  (Fe0.68Tb0.07B0.2Si0.05)96Nb4  959.0  1019.0  1438.0   2.0   \n",
       "\n",
       "    Heating_Rate-1 Heating_Rate-2 Fabrication_Method  \n",
       "0             0.67           0.17            Cu mold  \n",
       "1             0.67           0.17            Cu mold  \n",
       "2             0.67           0.17            Cu mold  \n",
       "3             0.67           0.17            Cu mold  \n",
       "4             0.67           0.17            Cu mold  \n",
       "..             ...            ...                ...  \n",
       "589           0.67          0.067            Cu mold  \n",
       "590           0.67          0.067            Cu mold  \n",
       "591           0.67          0.067            Cu mold  \n",
       "592           0.67          0.067            Cu mold  \n",
       "593           0.67          0.067            Cu mold  \n",
       "\n",
       "[594 rows x 8 columns]"
      ]
     },
     "execution_count": 85,
     "metadata": {},
     "output_type": "execute_result"
    }
   ],
   "source": [
    "df = pd.read_csv('alloy.csv')\n",
    "df"
   ]
  },
  {
   "cell_type": "code",
   "execution_count": 86,
   "metadata": {},
   "outputs": [
    {
     "name": "stdout",
     "output_type": "stream",
     "text": [
      "['Cu mold' 'Cu mold S' 'Cu mold I' 'Cu mold W' 'Cu moldC' 'Cu mold HPDC'\n",
      " 'Melt Spin' 'SiO2 tube' 'Cu moldD' 'Brass M' 'CLELP']\n"
     ]
    }
   ],
   "source": [
    "uniqueValues = df['Fabrication_Method'].unique()\n",
    "print(uniqueValues)"
   ]
  },
  {
   "cell_type": "code",
   "execution_count": 87,
   "metadata": {},
   "outputs": [],
   "source": [
    "grouped = df.groupby(df.Fabrication_Method)"
   ]
  },
  {
   "cell_type": "code",
   "execution_count": 88,
   "metadata": {},
   "outputs": [],
   "source": [
    "Cu_mold      = grouped.get_group(\"Cu mold\")\n",
    "Cu_mold_S    = grouped.get_group(\"Cu mold S\")\n",
    "Cu_mold_I    = grouped.get_group(\"Cu mold I\")\n",
    "Cu_mold_W    = grouped.get_group(\"Cu mold W\")\n",
    "Cu_mold_C    = grouped.get_group(\"Cu moldC\")\n",
    "Cu_mold_HPDC = grouped.get_group(\"Cu mold HPDC\")\n",
    "Melt_spin    = grouped.get_group(\"Melt Spin\")\n",
    "SiO2_tube    = grouped.get_group(\"SiO2 tube\")\n",
    "Cu_mold_D    = grouped.get_group(\"Cu moldD\")\n",
    "Brass_M      = grouped.get_group(\"Brass M\")\n",
    "CLELP        = grouped.get_group(\"CLELP\")"
   ]
  },
  {
   "cell_type": "markdown",
   "metadata": {},
   "source": [
    "# Alloy clustering in Cu_mold"
   ]
  },
  {
   "cell_type": "code",
   "execution_count": 89,
   "metadata": {},
   "outputs": [
    {
     "name": "stderr",
     "output_type": "stream",
     "text": [
      "C:\\Users\\DELL\\anaconda3\\lib\\site-packages\\pandas\\core\\ops\\array_ops.py:253: FutureWarning: elementwise comparison failed; returning scalar instead, but in the future will perform elementwise comparison\n",
      "  res_values = method(rvalues)\n"
     ]
    },
    {
     "ename": "ValueError",
     "evalue": "The truth value of a Series is ambiguous. Use a.empty, a.bool(), a.item(), a.any() or a.all().",
     "output_type": "error",
     "traceback": [
      "\u001b[1;31m---------------------------------------------------------------------------\u001b[0m",
      "\u001b[1;31mValueError\u001b[0m                                Traceback (most recent call last)",
      "\u001b[1;32m<ipython-input-89-059e4d46947a>\u001b[0m in \u001b[0;36m<module>\u001b[1;34m\u001b[0m\n\u001b[0;32m      1\u001b[0m \u001b[1;32mfor\u001b[0m \u001b[0mi\u001b[0m \u001b[1;32min\u001b[0m \u001b[0mCu_mold\u001b[0m\u001b[1;33m[\u001b[0m\u001b[1;34m'Alloy'\u001b[0m\u001b[1;33m]\u001b[0m\u001b[1;33m:\u001b[0m\u001b[1;33m\u001b[0m\u001b[1;33m\u001b[0m\u001b[0m\n\u001b[1;32m----> 2\u001b[1;33m     \u001b[1;32mif\u001b[0m \u001b[1;33m(\u001b[0m\u001b[0mCu_mold\u001b[0m\u001b[1;33m[\u001b[0m\u001b[1;34m'Alloy'\u001b[0m\u001b[1;33m]\u001b[0m\u001b[1;33m.\u001b[0m\u001b[0mstr\u001b[0m\u001b[1;33m.\u001b[0m\u001b[0mstartswith\u001b[0m\u001b[1;33m(\u001b[0m\u001b[1;34m'Cu'\u001b[0m\u001b[1;33m)\u001b[0m \u001b[1;33m==\u001b[0m \u001b[1;34m\"True\"\u001b[0m\u001b[1;33m)\u001b[0m\u001b[1;33m:\u001b[0m\u001b[1;33m\u001b[0m\u001b[1;33m\u001b[0m\u001b[0m\n\u001b[0m\u001b[0;32m      3\u001b[0m         \u001b[0mCu_Cu_mold\u001b[0m \u001b[1;33m=\u001b[0m \u001b[0mCu_mold\u001b[0m\u001b[1;33m[\u001b[0m\u001b[1;34m'Alloy'\u001b[0m\u001b[1;33m]\u001b[0m\u001b[1;33m\u001b[0m\u001b[1;33m\u001b[0m\u001b[0m\n",
      "\u001b[1;32m~\\anaconda3\\lib\\site-packages\\pandas\\core\\generic.py\u001b[0m in \u001b[0;36m__nonzero__\u001b[1;34m(self)\u001b[0m\n\u001b[0;32m   1476\u001b[0m \u001b[1;33m\u001b[0m\u001b[0m\n\u001b[0;32m   1477\u001b[0m     \u001b[1;32mdef\u001b[0m \u001b[0m__nonzero__\u001b[0m\u001b[1;33m(\u001b[0m\u001b[0mself\u001b[0m\u001b[1;33m)\u001b[0m\u001b[1;33m:\u001b[0m\u001b[1;33m\u001b[0m\u001b[1;33m\u001b[0m\u001b[0m\n\u001b[1;32m-> 1478\u001b[1;33m         raise ValueError(\n\u001b[0m\u001b[0;32m   1479\u001b[0m             \u001b[1;34mf\"The truth value of a {type(self).__name__} is ambiguous. \"\u001b[0m\u001b[1;33m\u001b[0m\u001b[1;33m\u001b[0m\u001b[0m\n\u001b[0;32m   1480\u001b[0m             \u001b[1;34m\"Use a.empty, a.bool(), a.item(), a.any() or a.all().\"\u001b[0m\u001b[1;33m\u001b[0m\u001b[1;33m\u001b[0m\u001b[0m\n",
      "\u001b[1;31mValueError\u001b[0m: The truth value of a Series is ambiguous. Use a.empty, a.bool(), a.item(), a.any() or a.all()."
     ]
    }
   ],
   "source": [
    "for i in Cu_mold['Alloy']:\n",
    "    if (Cu_mold['Alloy'].str.startswith('Cu') == \"True\"):\n",
    "        Cu_Cu_mold = Cu_mold['Alloy']"
   ]
  },
  {
   "cell_type": "code",
   "execution_count": null,
   "metadata": {},
   "outputs": [],
   "source": []
  }
 ],
 "metadata": {
  "kernelspec": {
   "display_name": "Python 3",
   "language": "python",
   "name": "python3"
  },
  "language_info": {
   "codemirror_mode": {
    "name": "ipython",
    "version": 3
   },
   "file_extension": ".py",
   "mimetype": "text/x-python",
   "name": "python",
   "nbconvert_exporter": "python",
   "pygments_lexer": "ipython3",
   "version": "3.8.3"
  }
 },
 "nbformat": 4,
 "nbformat_minor": 4
}
