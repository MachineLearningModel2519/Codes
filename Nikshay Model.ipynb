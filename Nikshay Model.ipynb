{
 "cells": [
  {
   "cell_type": "code",
   "execution_count": 228,
   "metadata": {},
   "outputs": [],
   "source": [
    "import numpy as np\n",
    "from sklearn.model_selection import train_test_split\n",
    "import pandas as pd"
   ]
  },
  {
   "cell_type": "code",
   "execution_count": 229,
   "metadata": {},
   "outputs": [
    {
     "data": {
      "text/html": [
       "<div>\n",
       "<style scoped>\n",
       "    .dataframe tbody tr th:only-of-type {\n",
       "        vertical-align: middle;\n",
       "    }\n",
       "\n",
       "    .dataframe tbody tr th {\n",
       "        vertical-align: top;\n",
       "    }\n",
       "\n",
       "    .dataframe thead th {\n",
       "        text-align: right;\n",
       "    }\n",
       "</style>\n",
       "<table border=\"1\" class=\"dataframe\">\n",
       "  <thead>\n",
       "    <tr style=\"text-align: right;\">\n",
       "      <th></th>\n",
       "      <th>Alloy</th>\n",
       "      <th>Tg</th>\n",
       "      <th>Tx</th>\n",
       "      <th>Tl</th>\n",
       "      <th>Dmax</th>\n",
       "      <th>Heating_Rate-1</th>\n",
       "      <th>Heating_Rate-2</th>\n",
       "      <th>Fabrication_Method</th>\n",
       "    </tr>\n",
       "  </thead>\n",
       "  <tbody>\n",
       "    <tr>\n",
       "      <th>0</th>\n",
       "      <td>Cu55Zr42.5Ga2.5</td>\n",
       "      <td>709.0</td>\n",
       "      <td>762.0</td>\n",
       "      <td>1199.0</td>\n",
       "      <td>1.0</td>\n",
       "      <td>0.67</td>\n",
       "      <td>0.17</td>\n",
       "      <td>Cu mold</td>\n",
       "    </tr>\n",
       "    <tr>\n",
       "      <th>1</th>\n",
       "      <td>Cu57.5Zr37.5Ga5</td>\n",
       "      <td>745.0</td>\n",
       "      <td>785.0</td>\n",
       "      <td>1241.0</td>\n",
       "      <td>1.0</td>\n",
       "      <td>0.67</td>\n",
       "      <td>0.17</td>\n",
       "      <td>Cu mold</td>\n",
       "    </tr>\n",
       "    <tr>\n",
       "      <th>2</th>\n",
       "      <td>Cu52.5Zr40Ga7.5</td>\n",
       "      <td>744.0</td>\n",
       "      <td>777.0</td>\n",
       "      <td>1218.0</td>\n",
       "      <td>1.5</td>\n",
       "      <td>0.67</td>\n",
       "      <td>0.17</td>\n",
       "      <td>Cu mold</td>\n",
       "    </tr>\n",
       "    <tr>\n",
       "      <th>3</th>\n",
       "      <td>Cu55Zr40Ga5</td>\n",
       "      <td>736.0</td>\n",
       "      <td>779.0</td>\n",
       "      <td>1193.0</td>\n",
       "      <td>2.0</td>\n",
       "      <td>0.67</td>\n",
       "      <td>0.17</td>\n",
       "      <td>Cu mold</td>\n",
       "    </tr>\n",
       "    <tr>\n",
       "      <th>4</th>\n",
       "      <td>Cu52.5Zr42.5Ga5</td>\n",
       "      <td>733.0</td>\n",
       "      <td>777.0</td>\n",
       "      <td>1187.0</td>\n",
       "      <td>2.0</td>\n",
       "      <td>0.67</td>\n",
       "      <td>0.17</td>\n",
       "      <td>Cu mold</td>\n",
       "    </tr>\n",
       "    <tr>\n",
       "      <th>...</th>\n",
       "      <td>...</td>\n",
       "      <td>...</td>\n",
       "      <td>...</td>\n",
       "      <td>...</td>\n",
       "      <td>...</td>\n",
       "      <td>...</td>\n",
       "      <td>...</td>\n",
       "      <td>...</td>\n",
       "    </tr>\n",
       "    <tr>\n",
       "      <th>589</th>\n",
       "      <td>(Fe0.72Tb0.03B0.2Si0.05)96Nb4</td>\n",
       "      <td>860.0</td>\n",
       "      <td>940.0</td>\n",
       "      <td>1422.0</td>\n",
       "      <td>3.0</td>\n",
       "      <td>0.67</td>\n",
       "      <td>0.067</td>\n",
       "      <td>Cu mold</td>\n",
       "    </tr>\n",
       "    <tr>\n",
       "      <th>590</th>\n",
       "      <td>(Fe0.71Tb0.04B0.2Si0.05)96Nb4</td>\n",
       "      <td>869.0</td>\n",
       "      <td>969.0</td>\n",
       "      <td>1397.0</td>\n",
       "      <td>3.5</td>\n",
       "      <td>0.67</td>\n",
       "      <td>0.067</td>\n",
       "      <td>Cu mold</td>\n",
       "    </tr>\n",
       "    <tr>\n",
       "      <th>591</th>\n",
       "      <td>(Fe0.70Tb0.05B0.2Si0.05)96Nb4</td>\n",
       "      <td>935.0</td>\n",
       "      <td>995.0</td>\n",
       "      <td>1396.0</td>\n",
       "      <td>3.5</td>\n",
       "      <td>0.67</td>\n",
       "      <td>0.067</td>\n",
       "      <td>Cu mold</td>\n",
       "    </tr>\n",
       "    <tr>\n",
       "      <th>592</th>\n",
       "      <td>(Fe0.69Tb0.06B0.2Si0.05)96Nb4</td>\n",
       "      <td>952.0</td>\n",
       "      <td>1012.0</td>\n",
       "      <td>1411.0</td>\n",
       "      <td>3.0</td>\n",
       "      <td>0.67</td>\n",
       "      <td>0.067</td>\n",
       "      <td>Cu mold</td>\n",
       "    </tr>\n",
       "    <tr>\n",
       "      <th>593</th>\n",
       "      <td>(Fe0.68Tb0.07B0.2Si0.05)96Nb4</td>\n",
       "      <td>959.0</td>\n",
       "      <td>1019.0</td>\n",
       "      <td>1438.0</td>\n",
       "      <td>2.0</td>\n",
       "      <td>0.67</td>\n",
       "      <td>0.067</td>\n",
       "      <td>Cu mold</td>\n",
       "    </tr>\n",
       "  </tbody>\n",
       "</table>\n",
       "<p>594 rows × 8 columns</p>\n",
       "</div>"
      ],
      "text/plain": [
       "                             Alloy     Tg      Tx      Tl  Dmax  \\\n",
       "0                  Cu55Zr42.5Ga2.5  709.0   762.0  1199.0   1.0   \n",
       "1                  Cu57.5Zr37.5Ga5  745.0   785.0  1241.0   1.0   \n",
       "2                  Cu52.5Zr40Ga7.5  744.0   777.0  1218.0   1.5   \n",
       "3                      Cu55Zr40Ga5  736.0   779.0  1193.0   2.0   \n",
       "4                  Cu52.5Zr42.5Ga5  733.0   777.0  1187.0   2.0   \n",
       "..                             ...    ...     ...     ...   ...   \n",
       "589  (Fe0.72Tb0.03B0.2Si0.05)96Nb4  860.0   940.0  1422.0   3.0   \n",
       "590  (Fe0.71Tb0.04B0.2Si0.05)96Nb4  869.0   969.0  1397.0   3.5   \n",
       "591  (Fe0.70Tb0.05B0.2Si0.05)96Nb4  935.0   995.0  1396.0   3.5   \n",
       "592  (Fe0.69Tb0.06B0.2Si0.05)96Nb4  952.0  1012.0  1411.0   3.0   \n",
       "593  (Fe0.68Tb0.07B0.2Si0.05)96Nb4  959.0  1019.0  1438.0   2.0   \n",
       "\n",
       "    Heating_Rate-1 Heating_Rate-2 Fabrication_Method  \n",
       "0             0.67           0.17            Cu mold  \n",
       "1             0.67           0.17            Cu mold  \n",
       "2             0.67           0.17            Cu mold  \n",
       "3             0.67           0.17            Cu mold  \n",
       "4             0.67           0.17            Cu mold  \n",
       "..             ...            ...                ...  \n",
       "589           0.67          0.067            Cu mold  \n",
       "590           0.67          0.067            Cu mold  \n",
       "591           0.67          0.067            Cu mold  \n",
       "592           0.67          0.067            Cu mold  \n",
       "593           0.67          0.067            Cu mold  \n",
       "\n",
       "[594 rows x 8 columns]"
      ]
     },
     "execution_count": 229,
     "metadata": {},
     "output_type": "execute_result"
    }
   ],
   "source": [
    "df = pd.read_csv('alloy.csv')\n",
    "df"
   ]
  },
  {
   "cell_type": "code",
   "execution_count": 230,
   "metadata": {},
   "outputs": [
    {
     "name": "stdout",
     "output_type": "stream",
     "text": [
      "['Cu mold' 'Cu mold S' 'Cu mold I' 'Cu mold W' 'Cu moldC' 'Cu mold HPDC'\n",
      " 'Melt Spin' 'SiO2 tube' 'Cu moldD' 'Brass M' 'CLELP']\n"
     ]
    }
   ],
   "source": [
    "uniqueValues = df['Fabrication_Method'].unique()\n",
    "print(uniqueValues)"
   ]
  },
  {
   "cell_type": "code",
   "execution_count": 231,
   "metadata": {},
   "outputs": [],
   "source": [
    "grouped = df.groupby(df.Fabrication_Method)"
   ]
  },
  {
   "cell_type": "code",
   "execution_count": 232,
   "metadata": {},
   "outputs": [],
   "source": [
    "Cu_mold      = grouped.get_group(\"Cu mold\")\n",
    "Cu_mold_S    = grouped.get_group(\"Cu mold S\")\n",
    "Cu_mold_I    = grouped.get_group(\"Cu mold I\")\n",
    "Cu_mold_W    = grouped.get_group(\"Cu mold W\")\n",
    "Cu_mold_C    = grouped.get_group(\"Cu moldC\")\n",
    "Cu_mold_HPDC = grouped.get_group(\"Cu mold HPDC\")\n",
    "Melt_spin    = grouped.get_group(\"Melt Spin\")\n",
    "SiO2_tube    = grouped.get_group(\"SiO2 tube\")\n",
    "Cu_mold_D    = grouped.get_group(\"Cu moldD\")\n",
    "Brass_M      = grouped.get_group(\"Brass M\")\n",
    "CLELP        = grouped.get_group(\"CLELP\")"
   ]
  },
  {
   "cell_type": "markdown",
   "metadata": {},
   "source": [
    "# Alloy clustering of Cu_mold"
   ]
  },
  {
   "cell_type": "code",
   "execution_count": 233,
   "metadata": {},
   "outputs": [],
   "source": [
    "Cu_Cu_mold = Cu_mold[Cu_mold['Alloy'].str.startswith('Cu') | Cu_mold['Alloy'].str.startswith('(Cu')]\n",
    "Ca_Cu_mold = Cu_mold[Cu_mold['Alloy'].str.startswith('Ca')]\n",
    "Mg_Cu_mold = Cu_mold[Cu_mold['Alloy'].str.startswith('Mg')]\n",
    "La_Cu_mold = Cu_mold[Cu_mold['Alloy'].str.startswith('La')]\n",
    "Pd_Cu_mold = Cu_mold[Cu_mold['Alloy'].str.startswith('Pd')]\n",
    "Ti_Cu_mold = Cu_mold[Cu_mold['Alloy'].str.startswith('Ti') | Cu_mold['Alloy'].str.startswith('(Ti')]\n",
    "Co_Cu_mold = Cu_mold[Cu_mold['Alloy'].str.startswith('Co')]\n",
    "Au_Cu_mold = Cu_mold[Cu_mold['Alloy'].str.startswith('Au')]\n",
    "Hf_Cu_mold = Cu_mold[Cu_mold['Alloy'].str.startswith('Hf')]\n",
    "Gd_Cu_mold = Cu_mold[Cu_mold['Alloy'].str.startswith('Gd')]\n",
    "Zr_Cu_mold = Cu_mold[Cu_mold['Alloy'].str.startswith('Zr') | Cu_mold['Alloy'].str.startswith('(Zr')]\n",
    "Ni_Cu_mold = Cu_mold[Cu_mold['Alloy'].str.startswith('Ni')]\n",
    "Pr_Cu_mold = Cu_mold[Cu_mold['Alloy'].str.startswith('Pr')]\n",
    "Y_Cu_mold = Cu_mold[Cu_mold['Alloy'].str.startswith('Y')   | Cu_mold['Alloy'].str.startswith('(Y')]\n",
    "Fe_Cu_mold = Cu_mold[Cu_mold['Alloy'].str.startswith('Fe') | Cu_mold['Alloy'].str.startswith('(Fe') | Cu_mold['Alloy'].str.startswith('[(Fe')]"
   ]
  },
  {
   "cell_type": "markdown",
   "metadata": {},
   "source": [
    "# Alloy clustering of Cu_mold_S"
   ]
  },
  {
   "cell_type": "code",
   "execution_count": 236,
   "metadata": {},
   "outputs": [],
   "source": [
    "Cu_Cu_mold_S = Cu_mold_S[Cu_mold_S['Alloy'].str.startswith('Cu') | Cu_mold_S['Alloy'].str.startswith('(Cu')]\n",
    "Ca_Cu_mold_S = Cu_mold_S[Cu_mold_S['Alloy'].str.startswith('Ca')]\n",
    "Mg_Cu_mold_S = Cu_mold_S[Cu_mold_S['Alloy'].str.startswith('Mg')]\n",
    "La_Cu_mold_S = Cu_mold_S[Cu_mold_S['Alloy'].str.startswith('La')]\n",
    "Pd_Cu_mold_S = Cu_mold_S[Cu_mold_S['Alloy'].str.startswith('Pd')]\n",
    "Ti_Cu_mold_S = Cu_mold_S[Cu_mold_S['Alloy'].str.startswith('Ti') | Cu_mold_S['Alloy'].str.startswith('(Ti')]\n",
    "Co_Cu_mold_S = Cu_mold_S[Cu_mold_S['Alloy'].str.startswith('Co')]\n",
    "Au_Cu_mold_S = Cu_mold_S[Cu_mold_S['Alloy'].str.startswith('Au')]\n",
    "Hf_Cu_mold_S = Cu_mold_S[Cu_mold_S['Alloy'].str.startswith('Hf')]\n",
    "Gd_Cu_mold_S = Cu_mold_S[Cu_mold_S['Alloy'].str.startswith('Gd')]\n",
    "Zr_Cu_mold_S = Cu_mold_S[Cu_mold_S['Alloy'].str.startswith('Zr') | Cu_mold_S['Alloy'].str.startswith('(Zr')]\n",
    "Ni_Cu_mold_S = Cu_mold_S[Cu_mold_S['Alloy'].str.startswith('Ni')]\n",
    "Pr_Cu_mold_S = Cu_mold_S[Cu_mold_S['Alloy'].str.startswith('Pr')]\n",
    "Y_Cu_mold_S = Cu_mold_S[Cu_mold_S['Alloy'].str.startswith('Y')   | Cu_mold_S['Alloy'].str.startswith('(Y')]\n",
    "Fe_Cu_mold_S = Cu_mold_S[Cu_mold_S['Alloy'].str.startswith('Fe') | Cu_mold_S['Alloy'].str.startswith('(Fe') | Cu_mold_S['Alloy'].str.startswith('[(Fe')]\n"
   ]
  },
  {
   "cell_type": "markdown",
   "metadata": {},
   "source": [
    "# Alloy clustering of Cu_mold_I"
   ]
  },
  {
   "cell_type": "code",
   "execution_count": 237,
   "metadata": {},
   "outputs": [],
   "source": [
    "Cu_Cu_mold_I = Cu_mold_I[Cu_mold_I['Alloy'].str.startswith('Cu') | Cu_mold_I['Alloy'].str.startswith('(Cu')]\n",
    "Ca_Cu_mold_I = Cu_mold_I[Cu_mold_I['Alloy'].str.startswith('Ca')]\n",
    "Mg_Cu_mold_I = Cu_mold_I[Cu_mold_I['Alloy'].str.startswith('Mg')]\n",
    "La_Cu_mold_I = Cu_mold_I[Cu_mold_I['Alloy'].str.startswith('La')]\n",
    "Pd_Cu_mold_I = Cu_mold_I[Cu_mold_I['Alloy'].str.startswith('Pd')]\n",
    "Ti_Cu_mold_I = Cu_mold_I[Cu_mold_I['Alloy'].str.startswith('Ti') | Cu_mold_I['Alloy'].str.startswith('(Ti')]\n",
    "Co_Cu_mold_I = Cu_mold_I[Cu_mold_I['Alloy'].str.startswith('Co')]\n",
    "Au_Cu_mold_I = Cu_mold_I[Cu_mold_I['Alloy'].str.startswith('Au')]\n",
    "Hf_Cu_mold_I = Cu_mold_I[Cu_mold_I['Alloy'].str.startswith('Hf')]\n",
    "Gd_Cu_mold_I = Cu_mold_I[Cu_mold_I['Alloy'].str.startswith('Gd')]\n",
    "Zr_Cu_mold_I = Cu_mold_I[Cu_mold_I['Alloy'].str.startswith('Zr') | Cu_mold_I['Alloy'].str.startswith('(Zr')]\n",
    "Ni_Cu_mold_I = Cu_mold_I[Cu_mold_I['Alloy'].str.startswith('Ni')]\n",
    "Pr_Cu_mold_I = Cu_mold_I[Cu_mold_I['Alloy'].str.startswith('Pr')]\n",
    "Y_Cu_mold_I = Cu_mold_I[Cu_mold_I['Alloy'].str.startswith('Y')   | Cu_mold_I['Alloy'].str.startswith('(Y')]\n",
    "Fe_Cu_mold_I = Cu_mold_I[Cu_mold_I['Alloy'].str.startswith('Fe') | Cu_mold_I['Alloy'].str.startswith('(Fe') | Cu_mold_I['Alloy'].str.startswith('[(Fe')]"
   ]
  },
  {
   "cell_type": "code",
   "execution_count": 253,
   "metadata": {},
   "outputs": [
    {
     "data": {
      "text/plain": [
       "151"
      ]
     },
     "execution_count": 253,
     "metadata": {},
     "output_type": "execute_result"
    }
   ],
   "source": [
    "Cu_Cu_mold_I['Alloy'].count()+Ca_Cu_mold_I['Alloy'].count()+Mg_Cu_mold_I['Alloy'].count()+La_Cu_mold_I['Alloy'].count()+Pd_Cu_mold_I['Alloy'].count()+Ti_Cu_mold_I['Alloy'].count()+Co_Cu_mold_I['Alloy'].count()+Au_Cu_mold_I['Alloy'].count()+Hf_Cu_mold_I['Alloy'].count()+Gd_Cu_mold_I['Alloy'].count()+Zr_Cu_mold_I['Alloy'].count()+Ni_Cu_mold_I['Alloy'].count()+Pr_Cu_mold_I['Alloy'].count()+Y_Cu_mold_I['Alloy'].count()+Fe_Cu_mold_I['Alloy'].count()"
   ]
  },
  {
   "cell_type": "code",
   "execution_count": 254,
   "metadata": {},
   "outputs": [
    {
     "data": {
      "text/plain": [
       "Alloy                 172\n",
       "Tg                    172\n",
       "Tx                    172\n",
       "Tl                    172\n",
       "Dmax                  172\n",
       "Heating_Rate-1        172\n",
       "Heating_Rate-2        172\n",
       "Fabrication_Method    172\n",
       "dtype: int64"
      ]
     },
     "execution_count": 254,
     "metadata": {},
     "output_type": "execute_result"
    }
   ],
   "source": [
    "Cu_mold_I.count()"
   ]
  },
  {
   "cell_type": "markdown",
   "metadata": {},
   "source": [
    "# Alloy clustering of Cu_mold_W"
   ]
  },
  {
   "cell_type": "code",
   "execution_count": 238,
   "metadata": {},
   "outputs": [],
   "source": [
    "Cu_Cu_mold_W = Cu_mold_W[Cu_mold_W['Alloy'].str.startswith('Cu') | Cu_mold_W['Alloy'].str.startswith('(Cu')]\n",
    "Ca_Cu_mold_W = Cu_mold_W[Cu_mold_W['Alloy'].str.startswith('Ca')]\n",
    "Mg_Cu_mold_W = Cu_mold_W[Cu_mold_W['Alloy'].str.startswith('Mg')]\n",
    "La_Cu_mold_W = Cu_mold_W[Cu_mold_W['Alloy'].str.startswith('La')]\n",
    "Pd_Cu_mold_W = Cu_mold_W[Cu_mold_W['Alloy'].str.startswith('Pd')]\n",
    "Ti_Cu_mold_W = Cu_mold_W[Cu_mold_W['Alloy'].str.startswith('Ti') | Cu_mold_W['Alloy'].str.startswith('(Ti')]\n",
    "Co_Cu_mold_W = Cu_mold_W[Cu_mold_W['Alloy'].str.startswith('Co')]\n",
    "Au_Cu_mold_W = Cu_mold_W[Cu_mold_W['Alloy'].str.startswith('Au')]\n",
    "Hf_Cu_mold_W = Cu_mold_W[Cu_mold_W['Alloy'].str.startswith('Hf')]\n",
    "Gd_Cu_mold_W = Cu_mold_W[Cu_mold_W['Alloy'].str.startswith('Gd')]\n",
    "Zr_Cu_mold_W = Cu_mold_W[Cu_mold_W['Alloy'].str.startswith('Zr') | Cu_mold_W['Alloy'].str.startswith('(Zr')]\n",
    "Ni_Cu_mold_W = Cu_mold_W[Cu_mold_W['Alloy'].str.startswith('Ni')]\n",
    "Pr_Cu_mold_W = Cu_mold_W[Cu_mold_W['Alloy'].str.startswith('Pr')]\n",
    "Y_Cu_mold_W = Cu_mold_W[Cu_mold_W['Alloy'].str.startswith('Y')   | Cu_mold_W['Alloy'].str.startswith('(Y')]\n",
    "Fe_Cu_mold_W = Cu_mold_W[Cu_mold_W['Alloy'].str.startswith('Fe') | Cu_mold_W['Alloy'].str.startswith('(Fe') | Cu_mold_W['Alloy'].str.startswith('[(Fe')]"
   ]
  },
  {
   "cell_type": "markdown",
   "metadata": {},
   "source": [
    "# Alloy clustering of Cu_mold_C"
   ]
  },
  {
   "cell_type": "code",
   "execution_count": 239,
   "metadata": {},
   "outputs": [],
   "source": [
    "Cu_Cu_mold_C = Cu_mold_C[Cu_mold_C['Alloy'].str.startswith('Cu') | Cu_mold_C['Alloy'].str.startswith('(Cu')]\n",
    "Ca_Cu_mold_C = Cu_mold_C[Cu_mold_C['Alloy'].str.startswith('Ca')]\n",
    "Mg_Cu_mold_C = Cu_mold_C[Cu_mold_C['Alloy'].str.startswith('Mg')]\n",
    "La_Cu_mold_C = Cu_mold_C[Cu_mold_C['Alloy'].str.startswith('La')]\n",
    "Pd_Cu_mold_C = Cu_mold_C[Cu_mold_C['Alloy'].str.startswith('Pd')]\n",
    "Ti_Cu_mold_C = Cu_mold_C[Cu_mold_C['Alloy'].str.startswith('Ti') | Cu_mold_C['Alloy'].str.startswith('(Ti')]\n",
    "Co_Cu_mold_C = Cu_mold_C[Cu_mold_C['Alloy'].str.startswith('Co')]\n",
    "Au_Cu_mold_C = Cu_mold_C[Cu_mold_C['Alloy'].str.startswith('Au')]\n",
    "Hf_Cu_mold_C = Cu_mold_C[Cu_mold_C['Alloy'].str.startswith('Hf')]\n",
    "Gd_Cu_mold_C = Cu_mold_C[Cu_mold_C['Alloy'].str.startswith('Gd')]\n",
    "Zr_Cu_mold_C = Cu_mold_C[Cu_mold_C['Alloy'].str.startswith('Zr') | Cu_mold_C['Alloy'].str.startswith('(Zr')]\n",
    "Ni_Cu_mold_C = Cu_mold_C[Cu_mold_C['Alloy'].str.startswith('Ni')]\n",
    "Pr_Cu_mold_C = Cu_mold_C[Cu_mold_C['Alloy'].str.startswith('Pr')]\n",
    "Y_Cu_mold_C = Cu_mold_C[Cu_mold_C['Alloy'].str.startswith('Y')   | Cu_mold_C['Alloy'].str.startswith('(Y')]\n",
    "Fe_Cu_mold_C = Cu_mold_C[Cu_mold_C['Alloy'].str.startswith('Fe') | Cu_mold_C['Alloy'].str.startswith('(Fe') | Cu_mold_C['Alloy'].str.startswith('[(Fe')]"
   ]
  },
  {
   "cell_type": "markdown",
   "metadata": {},
   "source": [
    "# Alloy clustering of Cu_mold_HPDC"
   ]
  },
  {
   "cell_type": "code",
   "execution_count": 240,
   "metadata": {},
   "outputs": [],
   "source": [
    "Cu_Cu_mold_HPDC = Cu_mold_HPDC[Cu_mold_HPDC['Alloy'].str.startswith('Cu') | Cu_mold_HPDC['Alloy'].str.startswith('(Cu')]\n",
    "Ca_Cu_mold_HPDC = Cu_mold_HPDC[Cu_mold_HPDC['Alloy'].str.startswith('Ca')]\n",
    "Mg_Cu_mold_HPDC = Cu_mold_HPDC[Cu_mold_HPDC['Alloy'].str.startswith('Mg')]\n",
    "La_Cu_mold_HPDC = Cu_mold_HPDC[Cu_mold_HPDC['Alloy'].str.startswith('La')]\n",
    "Pd_Cu_mold_HPDC = Cu_mold_HPDC[Cu_mold_HPDC['Alloy'].str.startswith('Pd')]\n",
    "Ti_Cu_mold_HPDC = Cu_mold_HPDC[Cu_mold_HPDC['Alloy'].str.startswith('Ti') | Cu_mold_HPDC['Alloy'].str.startswith('(Ti')]\n",
    "Co_Cu_mold_HPDC = Cu_mold_HPDC[Cu_mold_HPDC['Alloy'].str.startswith('Co')]\n",
    "Au_Cu_mold_HPDC = Cu_mold_HPDC[Cu_mold_HPDC['Alloy'].str.startswith('Au')]\n",
    "Hf_Cu_mold_HPDC = Cu_mold_HPDC[Cu_mold_HPDC['Alloy'].str.startswith('Hf')]\n",
    "Gd_Cu_mold_HPDC = Cu_mold_HPDC[Cu_mold_HPDC['Alloy'].str.startswith('Gd')]\n",
    "Zr_Cu_mold_HPDC = Cu_mold_HPDC[Cu_mold_HPDC['Alloy'].str.startswith('Zr') | Cu_mold_HPDC['Alloy'].str.startswith('(Zr')]\n",
    "Ni_Cu_mold_HPDC = Cu_mold_HPDC[Cu_mold_HPDC['Alloy'].str.startswith('Ni')]\n",
    "Pr_Cu_mold_HPDC = Cu_mold_HPDC[Cu_mold_HPDC['Alloy'].str.startswith('Pr')]\n",
    "Y_Cu_mold_HPDC = Cu_mold_HPDC[Cu_mold_HPDC['Alloy'].str.startswith('Y')   | Cu_mold_HPDC['Alloy'].str.startswith('(Y')]\n",
    "Fe_Cu_mold_HPDC = Cu_mold_HPDC[Cu_mold_HPDC['Alloy'].str.startswith('Fe') | Cu_mold_HPDC['Alloy'].str.startswith('(Fe') | Cu_mold_HPDC['Alloy'].str.startswith('[(Fe')]"
   ]
  },
  {
   "cell_type": "markdown",
   "metadata": {},
   "source": [
    "# Alloy clustering of Melt Spin"
   ]
  },
  {
   "cell_type": "code",
   "execution_count": 241,
   "metadata": {},
   "outputs": [],
   "source": [
    "Cu_Melt_spin = Melt_spin[Melt_spin['Alloy'].str.startswith('Cu') | Melt_spin['Alloy'].str.startswith('(Cu')]\n",
    "Ca_Melt_spin = Melt_spin[Melt_spin['Alloy'].str.startswith('Ca')]\n",
    "Mg_Melt_spin = Melt_spin[Melt_spin['Alloy'].str.startswith('Mg')]\n",
    "La_Melt_spin = Melt_spin[Melt_spin['Alloy'].str.startswith('La')]\n",
    "Pd_Melt_spin = Melt_spin[Melt_spin['Alloy'].str.startswith('Pd')]\n",
    "Ti_Melt_spin = Melt_spin[Melt_spin['Alloy'].str.startswith('Ti') | Melt_spin['Alloy'].str.startswith('(Ti')]\n",
    "Co_Melt_spin = Melt_spin[Melt_spin['Alloy'].str.startswith('Co')]\n",
    "Au_Melt_spin = Melt_spin[Melt_spin['Alloy'].str.startswith('Au')]\n",
    "Hf_Melt_spin = Melt_spin[Melt_spin['Alloy'].str.startswith('Hf')]\n",
    "Gd_Melt_spin = Melt_spin[Melt_spin['Alloy'].str.startswith('Gd')]\n",
    "Zr_Melt_spin = Melt_spin[Melt_spin['Alloy'].str.startswith('Zr') | Melt_spin['Alloy'].str.startswith('(Zr')]\n",
    "Ni_Melt_spin = Melt_spin[Melt_spin['Alloy'].str.startswith('Ni')]\n",
    "Pr_Melt_spin = Melt_spin[Melt_spin['Alloy'].str.startswith('Pr')]\n",
    "Y_Melt_spin = Melt_spin[Melt_spin['Alloy'].str.startswith('Y')   | Melt_spin['Alloy'].str.startswith('(Y')]\n",
    "Fe_Melt_spin = Melt_spin[Melt_spin['Alloy'].str.startswith('Fe') | Melt_spin['Alloy'].str.startswith('(Fe') | Melt_spin['Alloy'].str.startswith('[(Fe')]"
   ]
  },
  {
   "cell_type": "markdown",
   "metadata": {},
   "source": [
    "# Alloy clustering of SiO2 Tube"
   ]
  },
  {
   "cell_type": "code",
   "execution_count": 242,
   "metadata": {},
   "outputs": [],
   "source": [
    "Cu_SiO2_tube = SiO2_tube[SiO2_tube['Alloy'].str.startswith('Cu') | SiO2_tube['Alloy'].str.startswith('(Cu')]\n",
    "Ca_SiO2_tube = SiO2_tube[SiO2_tube['Alloy'].str.startswith('Ca')]\n",
    "Mg_SiO2_tube = SiO2_tube[SiO2_tube['Alloy'].str.startswith('Mg')]\n",
    "La_SiO2_tube = SiO2_tube[SiO2_tube['Alloy'].str.startswith('La')]\n",
    "Pd_SiO2_tube = SiO2_tube[SiO2_tube['Alloy'].str.startswith('Pd')]\n",
    "Ti_SiO2_tube = SiO2_tube[SiO2_tube['Alloy'].str.startswith('Ti') | SiO2_tube['Alloy'].str.startswith('(Ti')]\n",
    "Co_SiO2_tube = SiO2_tube[SiO2_tube['Alloy'].str.startswith('Co')]\n",
    "Au_SiO2_tube = SiO2_tube[SiO2_tube['Alloy'].str.startswith('Au')]\n",
    "Hf_SiO2_tube = SiO2_tube[SiO2_tube['Alloy'].str.startswith('Hf')]\n",
    "Gd_SiO2_tube = SiO2_tube[SiO2_tube['Alloy'].str.startswith('Gd')]\n",
    "Zr_SiO2_tube = SiO2_tube[SiO2_tube['Alloy'].str.startswith('Zr') | SiO2_tube['Alloy'].str.startswith('(Zr')]\n",
    "Ni_SiO2_tube = SiO2_tube[SiO2_tube['Alloy'].str.startswith('Ni')]\n",
    "Pr_SiO2_tube = SiO2_tube[SiO2_tube['Alloy'].str.startswith('Pr')]\n",
    "Y_SiO2_tube = SiO2_tube[SiO2_tube['Alloy'].str.startswith('Y')   | SiO2_tube['Alloy'].str.startswith('(Y')]\n",
    "Fe_SiO2_tube = SiO2_tube[SiO2_tube['Alloy'].str.startswith('Fe') | SiO2_tube['Alloy'].str.startswith('(Fe') | SiO2_tube['Alloy'].str.startswith('[(Fe')]"
   ]
  },
  {
   "cell_type": "markdown",
   "metadata": {},
   "source": [
    "# Alloy clustering of Cu mold D"
   ]
  },
  {
   "cell_type": "code",
   "execution_count": 243,
   "metadata": {},
   "outputs": [],
   "source": [
    "Cu_Cu_mold_D = Cu_mold_D[Cu_mold_D['Alloy'].str.startswith('Cu') | Cu_mold_D['Alloy'].str.startswith('(Cu')]\n",
    "Ca_Cu_mold_D = Cu_mold_D[Cu_mold_D['Alloy'].str.startswith('Ca')]\n",
    "Mg_Cu_mold_D = Cu_mold_D[Cu_mold_D['Alloy'].str.startswith('Mg')]\n",
    "La_Cu_mold_D = Cu_mold_D[Cu_mold_D['Alloy'].str.startswith('La')]\n",
    "Pd_Cu_mold_D = Cu_mold_D[Cu_mold_D['Alloy'].str.startswith('Pd')]\n",
    "Ti_Cu_mold_D = Cu_mold_D[Cu_mold_D['Alloy'].str.startswith('Ti') | Cu_mold_D['Alloy'].str.startswith('(Ti')]\n",
    "Co_Cu_mold_D = Cu_mold_D[Cu_mold_D['Alloy'].str.startswith('Co')]\n",
    "Au_Cu_mold_D = Cu_mold_D[Cu_mold_D['Alloy'].str.startswith('Au')]\n",
    "Hf_Cu_mold_D = Cu_mold_D[Cu_mold_D['Alloy'].str.startswith('Hf')]\n",
    "Gd_Cu_mold_D = Cu_mold_D[Cu_mold_D['Alloy'].str.startswith('Gd')]\n",
    "Zr_Cu_mold_D = Cu_mold_D[Cu_mold_D['Alloy'].str.startswith('Zr') | Cu_mold_D['Alloy'].str.startswith('(Zr')]\n",
    "Ni_Cu_mold_D = Cu_mold_D[Cu_mold_D['Alloy'].str.startswith('Ni')]\n",
    "Pr_Cu_mold_D = Cu_mold_D[Cu_mold_D['Alloy'].str.startswith('Pr')]\n",
    "Y_Cu_mold_D = Cu_mold_D[Cu_mold_D['Alloy'].str.startswith('Y')   | Cu_mold_D['Alloy'].str.startswith('(Y')]\n",
    "Fe_Cu_mold_D = Cu_mold_D[Cu_mold_D['Alloy'].str.startswith('Fe') | Cu_mold_D['Alloy'].str.startswith('(Fe') | Cu_mold_D['Alloy'].str.startswith('[(Fe')]"
   ]
  },
  {
   "cell_type": "markdown",
   "metadata": {},
   "source": [
    "# Alloy clustering of Brass M"
   ]
  },
  {
   "cell_type": "code",
   "execution_count": 244,
   "metadata": {},
   "outputs": [],
   "source": [
    "Cu_Brass_M = Brass_M[Brass_M['Alloy'].str.startswith('Cu') | Brass_M['Alloy'].str.startswith('(Cu')]\n",
    "Ca_Brass_M = Brass_M[Brass_M['Alloy'].str.startswith('Ca')]\n",
    "Mg_Brass_M = Brass_M[Brass_M['Alloy'].str.startswith('Mg')]\n",
    "La_Brass_M = Brass_M[Brass_M['Alloy'].str.startswith('La')]\n",
    "Pd_Brass_M = Brass_M[Brass_M['Alloy'].str.startswith('Pd')]\n",
    "Ti_Brass_M = Brass_M[Brass_M['Alloy'].str.startswith('Ti') | Brass_M['Alloy'].str.startswith('(Ti')]\n",
    "Co_Brass_M = Brass_M[Brass_M['Alloy'].str.startswith('Co')]\n",
    "Au_Brass_M = Brass_M[Brass_M['Alloy'].str.startswith('Au')]\n",
    "Hf_Brass_M = Brass_M[Brass_M['Alloy'].str.startswith('Hf')]\n",
    "Gd_Brass_M = Brass_M[Brass_M['Alloy'].str.startswith('Gd')]\n",
    "Zr_Brass_M = Brass_M[Brass_M['Alloy'].str.startswith('Zr') | Brass_M['Alloy'].str.startswith('(Zr')]\n",
    "Ni_Brass_M = Brass_M[Brass_M['Alloy'].str.startswith('Ni')]\n",
    "Pr_Brass_M = Brass_M[Brass_M['Alloy'].str.startswith('Pr')]\n",
    "Y_Brass_M = Brass_M[Brass_M['Alloy'].str.startswith('Y')   | Brass_M['Alloy'].str.startswith('(Y')]\n",
    "Fe_Brass_M = Brass_M[Brass_M['Alloy'].str.startswith('Fe') | Brass_M['Alloy'].str.startswith('(Fe') | Brass_M['Alloy'].str.startswith('[(Fe')]"
   ]
  },
  {
   "cell_type": "markdown",
   "metadata": {},
   "source": [
    "# Alloy clustering of CLELP"
   ]
  },
  {
   "cell_type": "code",
   "execution_count": 245,
   "metadata": {},
   "outputs": [],
   "source": [
    "Cu_CLELP = CLELP[CLELP['Alloy'].str.startswith('Cu') | CLELP['Alloy'].str.startswith('(Cu')]\n",
    "Ca_CLELP = CLELP[CLELP['Alloy'].str.startswith('Ca')]\n",
    "Mg_CLELP = CLELP[CLELP['Alloy'].str.startswith('Mg')]\n",
    "La_CLELP = CLELP[CLELP['Alloy'].str.startswith('La')]\n",
    "Pd_CLELP = CLELP[CLELP['Alloy'].str.startswith('Pd')]\n",
    "Ti_CLELP = CLELP[CLELP['Alloy'].str.startswith('Ti') | CLELP['Alloy'].str.startswith('(Ti')]\n",
    "Co_CLELP = CLELP[CLELP['Alloy'].str.startswith('Co')]\n",
    "Au_CLELP = CLELP[CLELP['Alloy'].str.startswith('Au')]\n",
    "Hf_CLELP = CLELP[CLELP['Alloy'].str.startswith('Hf')]\n",
    "Gd_CLELP = CLELP[CLELP['Alloy'].str.startswith('Gd')]\n",
    "Zr_CLELP = CLELP[CLELP['Alloy'].str.startswith('Zr') | CLELP['Alloy'].str.startswith('(Zr')]\n",
    "Ni_CLELP = CLELP[CLELP['Alloy'].str.startswith('Ni')]\n",
    "Pr_CLELP = CLELP[CLELP['Alloy'].str.startswith('Pr')]\n",
    "Y_CLELP =  CLELP[CLELP['Alloy'].str.startswith('Y')   | CLELP['Alloy'].str.startswith('(Y')]\n",
    "Fe_CLELP = CLELP[CLELP['Alloy'].str.startswith('Fe') | CLELP['Alloy'].str.startswith('(Fe') | CLELP['Alloy'].str.startswith('[(Fe')]"
   ]
  },
  {
   "cell_type": "code",
   "execution_count": null,
   "metadata": {},
   "outputs": [],
   "source": []
  }
 ],
 "metadata": {
  "kernelspec": {
   "display_name": "Python 3",
   "language": "python",
   "name": "python3"
  },
  "language_info": {
   "codemirror_mode": {
    "name": "ipython",
    "version": 3
   },
   "file_extension": ".py",
   "mimetype": "text/x-python",
   "name": "python",
   "nbconvert_exporter": "python",
   "pygments_lexer": "ipython3",
   "version": "3.8.3"
  }
 },
 "nbformat": 4,
 "nbformat_minor": 4
}
