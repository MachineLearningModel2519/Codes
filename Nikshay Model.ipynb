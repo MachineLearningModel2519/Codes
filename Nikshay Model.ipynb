{
 "cells": [
  {
   "cell_type": "code",
   "execution_count": 1708,
   "metadata": {},
   "outputs": [],
   "source": [
    "import numpy as np\n",
    "from sklearn.model_selection import train_test_split\n",
    "import pandas as pd"
   ]
  },
  {
   "cell_type": "code",
   "execution_count": 1709,
   "metadata": {},
   "outputs": [
    {
     "data": {
      "text/html": [
       "<div>\n",
       "<style scoped>\n",
       "    .dataframe tbody tr th:only-of-type {\n",
       "        vertical-align: middle;\n",
       "    }\n",
       "\n",
       "    .dataframe tbody tr th {\n",
       "        vertical-align: top;\n",
       "    }\n",
       "\n",
       "    .dataframe thead th {\n",
       "        text-align: right;\n",
       "    }\n",
       "</style>\n",
       "<table border=\"1\" class=\"dataframe\">\n",
       "  <thead>\n",
       "    <tr style=\"text-align: right;\">\n",
       "      <th></th>\n",
       "      <th>Alloy</th>\n",
       "      <th>Tg</th>\n",
       "      <th>Tx</th>\n",
       "      <th>Tl</th>\n",
       "      <th>Dmax</th>\n",
       "      <th>Heating_Rate-1</th>\n",
       "      <th>Heating_Rate-2</th>\n",
       "      <th>Fabrication_Method</th>\n",
       "      <th>No of Elements</th>\n",
       "    </tr>\n",
       "  </thead>\n",
       "  <tbody>\n",
       "    <tr>\n",
       "      <th>0</th>\n",
       "      <td>Cu55Zr42.5Ga2.5</td>\n",
       "      <td>709.0</td>\n",
       "      <td>762.0</td>\n",
       "      <td>1199.0</td>\n",
       "      <td>1.0</td>\n",
       "      <td>0.67</td>\n",
       "      <td>0.17</td>\n",
       "      <td>Cu mold</td>\n",
       "      <td>2</td>\n",
       "    </tr>\n",
       "    <tr>\n",
       "      <th>1</th>\n",
       "      <td>Cu57.5Zr37.5Ga5</td>\n",
       "      <td>745.0</td>\n",
       "      <td>785.0</td>\n",
       "      <td>1241.0</td>\n",
       "      <td>1.0</td>\n",
       "      <td>0.67</td>\n",
       "      <td>0.17</td>\n",
       "      <td>Cu mold</td>\n",
       "      <td>2</td>\n",
       "    </tr>\n",
       "    <tr>\n",
       "      <th>2</th>\n",
       "      <td>Cu52.5Zr40Ga7.5</td>\n",
       "      <td>744.0</td>\n",
       "      <td>777.0</td>\n",
       "      <td>1218.0</td>\n",
       "      <td>1.5</td>\n",
       "      <td>0.67</td>\n",
       "      <td>0.17</td>\n",
       "      <td>Cu mold</td>\n",
       "      <td>2</td>\n",
       "    </tr>\n",
       "    <tr>\n",
       "      <th>3</th>\n",
       "      <td>Cu55Zr40Ga5</td>\n",
       "      <td>736.0</td>\n",
       "      <td>779.0</td>\n",
       "      <td>1193.0</td>\n",
       "      <td>2.0</td>\n",
       "      <td>0.67</td>\n",
       "      <td>0.17</td>\n",
       "      <td>Cu mold</td>\n",
       "      <td>2</td>\n",
       "    </tr>\n",
       "    <tr>\n",
       "      <th>4</th>\n",
       "      <td>Cu52.5Zr42.5Ga5</td>\n",
       "      <td>733.0</td>\n",
       "      <td>777.0</td>\n",
       "      <td>1187.0</td>\n",
       "      <td>2.0</td>\n",
       "      <td>0.67</td>\n",
       "      <td>0.17</td>\n",
       "      <td>Cu mold</td>\n",
       "      <td>2</td>\n",
       "    </tr>\n",
       "    <tr>\n",
       "      <th>...</th>\n",
       "      <td>...</td>\n",
       "      <td>...</td>\n",
       "      <td>...</td>\n",
       "      <td>...</td>\n",
       "      <td>...</td>\n",
       "      <td>...</td>\n",
       "      <td>...</td>\n",
       "      <td>...</td>\n",
       "      <td>...</td>\n",
       "    </tr>\n",
       "    <tr>\n",
       "      <th>589</th>\n",
       "      <td>(Fe0.72Tb0.03B0.2Si0.05)96Nb4</td>\n",
       "      <td>860.0</td>\n",
       "      <td>940.0</td>\n",
       "      <td>1422.0</td>\n",
       "      <td>3.0</td>\n",
       "      <td>0.67</td>\n",
       "      <td>0.067</td>\n",
       "      <td>Cu mold</td>\n",
       "      <td>4</td>\n",
       "    </tr>\n",
       "    <tr>\n",
       "      <th>590</th>\n",
       "      <td>(Fe0.71Tb0.04B0.2Si0.05)96Nb4</td>\n",
       "      <td>869.0</td>\n",
       "      <td>969.0</td>\n",
       "      <td>1397.0</td>\n",
       "      <td>3.5</td>\n",
       "      <td>0.67</td>\n",
       "      <td>0.067</td>\n",
       "      <td>Cu mold</td>\n",
       "      <td>4</td>\n",
       "    </tr>\n",
       "    <tr>\n",
       "      <th>591</th>\n",
       "      <td>(Fe0.70Tb0.05B0.2Si0.05)96Nb4</td>\n",
       "      <td>935.0</td>\n",
       "      <td>995.0</td>\n",
       "      <td>1396.0</td>\n",
       "      <td>3.5</td>\n",
       "      <td>0.67</td>\n",
       "      <td>0.067</td>\n",
       "      <td>Cu mold</td>\n",
       "      <td>4</td>\n",
       "    </tr>\n",
       "    <tr>\n",
       "      <th>592</th>\n",
       "      <td>(Fe0.69Tb0.06B0.2Si0.05)96Nb4</td>\n",
       "      <td>952.0</td>\n",
       "      <td>1012.0</td>\n",
       "      <td>1411.0</td>\n",
       "      <td>3.0</td>\n",
       "      <td>0.67</td>\n",
       "      <td>0.067</td>\n",
       "      <td>Cu mold</td>\n",
       "      <td>4</td>\n",
       "    </tr>\n",
       "    <tr>\n",
       "      <th>593</th>\n",
       "      <td>(Fe0.68Tb0.07B0.2Si0.05)96Nb4</td>\n",
       "      <td>959.0</td>\n",
       "      <td>1019.0</td>\n",
       "      <td>1438.0</td>\n",
       "      <td>2.0</td>\n",
       "      <td>0.67</td>\n",
       "      <td>0.067</td>\n",
       "      <td>Cu mold</td>\n",
       "      <td>4</td>\n",
       "    </tr>\n",
       "  </tbody>\n",
       "</table>\n",
       "<p>594 rows × 9 columns</p>\n",
       "</div>"
      ],
      "text/plain": [
       "                             Alloy     Tg      Tx      Tl  Dmax  \\\n",
       "0                  Cu55Zr42.5Ga2.5  709.0   762.0  1199.0   1.0   \n",
       "1                  Cu57.5Zr37.5Ga5  745.0   785.0  1241.0   1.0   \n",
       "2                  Cu52.5Zr40Ga7.5  744.0   777.0  1218.0   1.5   \n",
       "3                      Cu55Zr40Ga5  736.0   779.0  1193.0   2.0   \n",
       "4                  Cu52.5Zr42.5Ga5  733.0   777.0  1187.0   2.0   \n",
       "..                             ...    ...     ...     ...   ...   \n",
       "589  (Fe0.72Tb0.03B0.2Si0.05)96Nb4  860.0   940.0  1422.0   3.0   \n",
       "590  (Fe0.71Tb0.04B0.2Si0.05)96Nb4  869.0   969.0  1397.0   3.5   \n",
       "591  (Fe0.70Tb0.05B0.2Si0.05)96Nb4  935.0   995.0  1396.0   3.5   \n",
       "592  (Fe0.69Tb0.06B0.2Si0.05)96Nb4  952.0  1012.0  1411.0   3.0   \n",
       "593  (Fe0.68Tb0.07B0.2Si0.05)96Nb4  959.0  1019.0  1438.0   2.0   \n",
       "\n",
       "    Heating_Rate-1 Heating_Rate-2 Fabrication_Method  No of Elements  \n",
       "0             0.67           0.17            Cu mold               2  \n",
       "1             0.67           0.17            Cu mold               2  \n",
       "2             0.67           0.17            Cu mold               2  \n",
       "3             0.67           0.17            Cu mold               2  \n",
       "4             0.67           0.17            Cu mold               2  \n",
       "..             ...            ...                ...             ...  \n",
       "589           0.67          0.067            Cu mold               4  \n",
       "590           0.67          0.067            Cu mold               4  \n",
       "591           0.67          0.067            Cu mold               4  \n",
       "592           0.67          0.067            Cu mold               4  \n",
       "593           0.67          0.067            Cu mold               4  \n",
       "\n",
       "[594 rows x 9 columns]"
      ]
     },
     "execution_count": 1709,
     "metadata": {},
     "output_type": "execute_result"
    }
   ],
   "source": [
    "df = pd.read_csv('Final.csv')\n",
    "df"
   ]
  },
  {
   "cell_type": "code",
   "execution_count": 1710,
   "metadata": {},
   "outputs": [
    {
     "name": "stdout",
     "output_type": "stream",
     "text": [
      "['Cu mold' 'Cu mold S' 'Cu mold I' 'Cu mold W' 'Cu moldC' 'Cu mold HPDC'\n",
      " 'Melt Spin' 'SiO2 tube' 'Cu moldD' 'Brass M' 'CLELP']\n"
     ]
    }
   ],
   "source": [
    "uniqueValues = df['Fabrication_Method'].unique()\n",
    "print(uniqueValues)"
   ]
  },
  {
   "cell_type": "code",
   "execution_count": 1711,
   "metadata": {},
   "outputs": [],
   "source": [
    "grouped = df.groupby(df.Fabrication_Method)"
   ]
  },
  {
   "cell_type": "code",
   "execution_count": 1712,
   "metadata": {},
   "outputs": [],
   "source": [
    "Cu_mold      = grouped.get_group(\"Cu mold\")\n",
    "Cu_mold_S    = grouped.get_group(\"Cu mold S\")\n",
    "Cu_mold_I    = grouped.get_group(\"Cu mold I\")\n",
    "Cu_mold_W    = grouped.get_group(\"Cu mold W\")\n",
    "Cu_mold_C    = grouped.get_group(\"Cu moldC\")\n",
    "Cu_mold_HPDC = grouped.get_group(\"Cu mold HPDC\")\n",
    "Melt_spin    = grouped.get_group(\"Melt Spin\")\n",
    "SiO2_tube    = grouped.get_group(\"SiO2 tube\")\n",
    "Cu_mold_D    = grouped.get_group(\"Cu moldD\")\n",
    "Brass_M      = grouped.get_group(\"Brass M\")\n",
    "CLELP        = grouped.get_group(\"CLELP\")"
   ]
  },
  {
   "cell_type": "markdown",
   "metadata": {},
   "source": [
    "# Alloy clustering of Cu_mold"
   ]
  },
  {
   "cell_type": "code",
   "execution_count": 1713,
   "metadata": {},
   "outputs": [],
   "source": [
    "Cu_Cu_mold = Cu_mold[Cu_mold['Alloy'].str.startswith('Cu') | Cu_mold['Alloy'].str.startswith('(Cu')]\n",
    "Ca_Cu_mold = Cu_mold[Cu_mold['Alloy'].str.startswith('Ca')]\n",
    "Mg_Cu_mold = Cu_mold[Cu_mold['Alloy'].str.startswith('Mg')]\n",
    "La_Cu_mold = Cu_mold[Cu_mold['Alloy'].str.startswith('La')]\n",
    "Pd_Cu_mold = Cu_mold[Cu_mold['Alloy'].str.startswith('Pd')]\n",
    "Ti_Cu_mold = Cu_mold[Cu_mold['Alloy'].str.startswith('Ti') | Cu_mold['Alloy'].str.startswith('(Ti')]\n",
    "Co_Cu_mold = Cu_mold[Cu_mold['Alloy'].str.startswith('Co')]\n",
    "Au_Cu_mold = Cu_mold[Cu_mold['Alloy'].str.startswith('Au')]\n",
    "Ag_Cu_mold = Cu_mold[Cu_mold['Alloy'].str.startswith('Ag')]\n",
    "Hf_Cu_mold = Cu_mold[Cu_mold['Alloy'].str.startswith('Hf')]\n",
    "Gd_Cu_mold = Cu_mold[Cu_mold['Alloy'].str.startswith('Gd')]\n",
    "Zr_Cu_mold = Cu_mold[Cu_mold['Alloy'].str.startswith('Zr') | Cu_mold['Alloy'].str.startswith('(Zr')]\n",
    "Ni_Cu_mold = Cu_mold[Cu_mold['Alloy'].str.startswith('Ni')]\n",
    "Pr_Cu_mold = Cu_mold[Cu_mold['Alloy'].str.startswith('Pr')]\n",
    "Y_Cu_mold = Cu_mold[Cu_mold['Alloy'].str.startswith('Y')   | Cu_mold['Alloy'].str.startswith('(Y')]\n",
    "Fe_Cu_mold = Cu_mold[Cu_mold['Alloy'].str.startswith('Fe') | Cu_mold['Alloy'].str.startswith('(Fe') | Cu_mold['Alloy'].str.startswith('[(Fe')]"
   ]
  },
  {
   "cell_type": "code",
   "execution_count": 1714,
   "metadata": {},
   "outputs": [
    {
     "data": {
      "text/plain": [
       "270"
      ]
     },
     "execution_count": 1714,
     "metadata": {},
     "output_type": "execute_result"
    }
   ],
   "source": [
    "Cu_Cu_mold['Alloy'].count()+Ca_Cu_mold['Alloy'].count()+Mg_Cu_mold['Alloy'].count()+La_Cu_mold['Alloy'].count()+Pd_Cu_mold['Alloy'].count()+Ti_Cu_mold['Alloy'].count()+Co_Cu_mold['Alloy'].count()+Au_Cu_mold['Alloy'].count()+Hf_Cu_mold['Alloy'].count()+Gd_Cu_mold['Alloy'].count()+Zr_Cu_mold['Alloy'].count()+Ni_Cu_mold['Alloy'].count()+Pr_Cu_mold['Alloy'].count()+Y_Cu_mold['Alloy'].count()+Fe_Cu_mold['Alloy'].count()"
   ]
  },
  {
   "cell_type": "code",
   "execution_count": 1715,
   "metadata": {},
   "outputs": [
    {
     "data": {
      "text/plain": [
       "Alloy                 270\n",
       "Tg                    270\n",
       "Tx                    270\n",
       "Tl                    270\n",
       "Dmax                  270\n",
       "Heating_Rate-1        270\n",
       "Heating_Rate-2        270\n",
       "Fabrication_Method    270\n",
       "No of Elements        270\n",
       "dtype: int64"
      ]
     },
     "execution_count": 1715,
     "metadata": {},
     "output_type": "execute_result"
    }
   ],
   "source": [
    "Cu_mold.count()"
   ]
  },
  {
   "cell_type": "markdown",
   "metadata": {},
   "source": [
    "# Alloy clustering of Cu_mold_S"
   ]
  },
  {
   "cell_type": "code",
   "execution_count": 1716,
   "metadata": {},
   "outputs": [],
   "source": [
    "Cu_Cu_mold_S = Cu_mold_S[Cu_mold_S['Alloy'].str.startswith('Cu') | Cu_mold_S['Alloy'].str.startswith('(Cu')]\n",
    "Ca_Cu_mold_S = Cu_mold_S[Cu_mold_S['Alloy'].str.startswith('Ca')]\n",
    "Mg_Cu_mold_S = Cu_mold_S[Cu_mold_S['Alloy'].str.startswith('Mg')]\n",
    "La_Cu_mold_S = Cu_mold_S[Cu_mold_S['Alloy'].str.startswith('La')]\n",
    "Pd_Cu_mold_S = Cu_mold_S[Cu_mold_S['Alloy'].str.startswith('Pd')]\n",
    "Ti_Cu_mold_S = Cu_mold_S[Cu_mold_S['Alloy'].str.startswith('Ti') | Cu_mold_S['Alloy'].str.startswith('(Ti')]\n",
    "Co_Cu_mold_S = Cu_mold_S[Cu_mold_S['Alloy'].str.startswith('Co')]\n",
    "Au_Cu_mold_S = Cu_mold_S[Cu_mold_S['Alloy'].str.startswith('Au')]\n",
    "Ag_Cu_mold_S = Cu_mold_S[Cu_mold_S['Alloy'].str.startswith('Ag')]\n",
    "Hf_Cu_mold_S = Cu_mold_S[Cu_mold_S['Alloy'].str.startswith('Hf')]\n",
    "Gd_Cu_mold_S = Cu_mold_S[Cu_mold_S['Alloy'].str.startswith('Gd')]\n",
    "Zr_Cu_mold_S = Cu_mold_S[Cu_mold_S['Alloy'].str.startswith('Zr') | Cu_mold_S['Alloy'].str.startswith('(Zr')]\n",
    "Ni_Cu_mold_S = Cu_mold_S[Cu_mold_S['Alloy'].str.startswith('Ni')]\n",
    "Pr_Cu_mold_S = Cu_mold_S[Cu_mold_S['Alloy'].str.startswith('Pr')]\n",
    "Y_Cu_mold_S = Cu_mold_S[Cu_mold_S['Alloy'].str.startswith('Y')   | Cu_mold_S['Alloy'].str.startswith('(Y')]\n",
    "Fe_Cu_mold_S = Cu_mold_S[Cu_mold_S['Alloy'].str.startswith('Fe') | Cu_mold_S['Alloy'].str.startswith('(Fe') | Cu_mold_S['Alloy'].str.startswith('[(Fe')]\n"
   ]
  },
  {
   "cell_type": "code",
   "execution_count": 1717,
   "metadata": {},
   "outputs": [
    {
     "data": {
      "text/plain": [
       "172"
      ]
     },
     "execution_count": 1717,
     "metadata": {},
     "output_type": "execute_result"
    }
   ],
   "source": [
    "Cu_Cu_mold_I['Alloy'].count()+Ca_Cu_mold_I['Alloy'].count()+Mg_Cu_mold_I['Alloy'].count()+La_Cu_mold_I['Alloy'].count()+Pd_Cu_mold_I['Alloy'].count()+Ti_Cu_mold_I['Alloy'].count()+Co_Cu_mold_I['Alloy'].count()+Au_Cu_mold_I['Alloy'].count()+Hf_Cu_mold_I['Alloy'].count()+Gd_Cu_mold_I['Alloy'].count()+Zr_Cu_mold_I['Alloy'].count()+Ni_Cu_mold_I['Alloy'].count()+Pr_Cu_mold_I['Alloy'].count()+Y_Cu_mold_I['Alloy'].count()+Fe_Cu_mold_I['Alloy'].count()+Ag_Cu_mold_I['Alloy'].count()"
   ]
  },
  {
   "cell_type": "code",
   "execution_count": 1718,
   "metadata": {},
   "outputs": [
    {
     "data": {
      "text/plain": [
       "Alloy                 172\n",
       "Tg                    172\n",
       "Tx                    172\n",
       "Tl                    172\n",
       "Dmax                  172\n",
       "Heating_Rate-1        172\n",
       "Heating_Rate-2        172\n",
       "Fabrication_Method    172\n",
       "No of Elements        172\n",
       "dtype: int64"
      ]
     },
     "execution_count": 1718,
     "metadata": {},
     "output_type": "execute_result"
    }
   ],
   "source": [
    "Cu_mold_I.count()"
   ]
  },
  {
   "cell_type": "markdown",
   "metadata": {},
   "source": [
    "# Alloy clustering of Cu_mold_I"
   ]
  },
  {
   "cell_type": "code",
   "execution_count": 1719,
   "metadata": {},
   "outputs": [],
   "source": [
    "Cu_Cu_mold_I = Cu_mold_I[Cu_mold_I['Alloy'].str.startswith('Cu') | Cu_mold_I['Alloy'].str.startswith('(Cu')]\n",
    "Ca_Cu_mold_I = Cu_mold_I[Cu_mold_I['Alloy'].str.startswith('Ca')]\n",
    "Mg_Cu_mold_I = Cu_mold_I[Cu_mold_I['Alloy'].str.startswith('Mg')]\n",
    "La_Cu_mold_I = Cu_mold_I[Cu_mold_I['Alloy'].str.startswith('La')]\n",
    "Pd_Cu_mold_I = Cu_mold_I[Cu_mold_I['Alloy'].str.startswith('Pd')]\n",
    "Ti_Cu_mold_I = Cu_mold_I[Cu_mold_I['Alloy'].str.startswith('Ti') | Cu_mold_I['Alloy'].str.startswith('(Ti')]\n",
    "Co_Cu_mold_I = Cu_mold_I[Cu_mold_I['Alloy'].str.startswith('Co')]\n",
    "Au_Cu_mold_I = Cu_mold_I[Cu_mold_I['Alloy'].str.startswith('Au')]\n",
    "Ag_Cu_mold_I = Cu_mold_I[Cu_mold_I['Alloy'].str.startswith('Ag')]\n",
    "Hf_Cu_mold_I = Cu_mold_I[Cu_mold_I['Alloy'].str.startswith('Hf')]\n",
    "Gd_Cu_mold_I = Cu_mold_I[Cu_mold_I['Alloy'].str.startswith('Gd')]\n",
    "Zr_Cu_mold_I = Cu_mold_I[Cu_mold_I['Alloy'].str.startswith('Zr') | Cu_mold_I['Alloy'].str.startswith('(Zr')]\n",
    "Ni_Cu_mold_I = Cu_mold_I[Cu_mold_I['Alloy'].str.startswith('Ni')]\n",
    "Pr_Cu_mold_I = Cu_mold_I[Cu_mold_I['Alloy'].str.startswith('Pr')]\n",
    "Y_Cu_mold_I = Cu_mold_I[Cu_mold_I['Alloy'].str.startswith('Y')   | Cu_mold_I['Alloy'].str.startswith('(Y')]\n",
    "Fe_Cu_mold_I = Cu_mold_I[Cu_mold_I['Alloy'].str.startswith('Fe') | Cu_mold_I['Alloy'].str.startswith('(Fe') | Cu_mold_I['Alloy'].str.startswith('[(Fe')]"
   ]
  },
  {
   "cell_type": "code",
   "execution_count": 1720,
   "metadata": {},
   "outputs": [
    {
     "data": {
      "text/plain": [
       "21"
      ]
     },
     "execution_count": 1720,
     "metadata": {},
     "output_type": "execute_result"
    }
   ],
   "source": [
    "Zr_Cu_mold_I['Alloy'].count()"
   ]
  },
  {
   "cell_type": "code",
   "execution_count": 1721,
   "metadata": {},
   "outputs": [
    {
     "data": {
      "text/plain": [
       "Alloy                 172\n",
       "Tg                    172\n",
       "Tx                    172\n",
       "Tl                    172\n",
       "Dmax                  172\n",
       "Heating_Rate-1        172\n",
       "Heating_Rate-2        172\n",
       "Fabrication_Method    172\n",
       "No of Elements        172\n",
       "dtype: int64"
      ]
     },
     "execution_count": 1721,
     "metadata": {},
     "output_type": "execute_result"
    }
   ],
   "source": [
    "Cu_mold_I.count()"
   ]
  },
  {
   "cell_type": "markdown",
   "metadata": {},
   "source": [
    "# Alloy clustering of Cu_mold_W"
   ]
  },
  {
   "cell_type": "code",
   "execution_count": 1722,
   "metadata": {},
   "outputs": [],
   "source": [
    "Cu_Cu_mold_W = Cu_mold_W[Cu_mold_W['Alloy'].str.startswith('Cu') | Cu_mold_W['Alloy'].str.startswith('(Cu')]\n",
    "Ca_Cu_mold_W = Cu_mold_W[Cu_mold_W['Alloy'].str.startswith('Ca')]\n",
    "Mg_Cu_mold_W = Cu_mold_W[Cu_mold_W['Alloy'].str.startswith('Mg')]\n",
    "La_Cu_mold_W = Cu_mold_W[Cu_mold_W['Alloy'].str.startswith('La')]\n",
    "Pd_Cu_mold_W = Cu_mold_W[Cu_mold_W['Alloy'].str.startswith('Pd')]\n",
    "Ti_Cu_mold_W = Cu_mold_W[Cu_mold_W['Alloy'].str.startswith('Ti') | Cu_mold_W['Alloy'].str.startswith('(Ti')]\n",
    "Co_Cu_mold_W = Cu_mold_W[Cu_mold_W['Alloy'].str.startswith('Co')]\n",
    "Au_Cu_mold_W = Cu_mold_W[Cu_mold_W['Alloy'].str.startswith('Au')]\n",
    "Ag_Cu_mold_W = Cu_mold_W[Cu_mold_W['Alloy'].str.startswith('Ag')]\n",
    "Hf_Cu_mold_W = Cu_mold_W[Cu_mold_W['Alloy'].str.startswith('Hf')]\n",
    "Gd_Cu_mold_W = Cu_mold_W[Cu_mold_W['Alloy'].str.startswith('Gd')]\n",
    "Zr_Cu_mold_W = Cu_mold_W[Cu_mold_W['Alloy'].str.startswith('Zr') | Cu_mold_W['Alloy'].str.startswith('(Zr')]\n",
    "Ni_Cu_mold_W = Cu_mold_W[Cu_mold_W['Alloy'].str.startswith('Ni')]\n",
    "Pr_Cu_mold_W = Cu_mold_W[Cu_mold_W['Alloy'].str.startswith('Pr')]\n",
    "Y_Cu_mold_W = Cu_mold_W[Cu_mold_W['Alloy'].str.startswith('Y')   | Cu_mold_W['Alloy'].str.startswith('(Y')]\n",
    "Fe_Cu_mold_W = Cu_mold_W[Cu_mold_W['Alloy'].str.startswith('Fe') | Cu_mold_W['Alloy'].str.startswith('(Fe') | Cu_mold_W['Alloy'].str.startswith('[(Fe')]"
   ]
  },
  {
   "cell_type": "code",
   "execution_count": 1723,
   "metadata": {},
   "outputs": [
    {
     "data": {
      "text/plain": [
       "53"
      ]
     },
     "execution_count": 1723,
     "metadata": {},
     "output_type": "execute_result"
    }
   ],
   "source": [
    "Cu_Cu_mold_W['Alloy'].count()+Ca_Cu_mold_W['Alloy'].count()+Mg_Cu_mold_W['Alloy'].count()+La_Cu_mold_W['Alloy'].count()+Pd_Cu_mold_W['Alloy'].count()+Ti_Cu_mold_W['Alloy'].count()+Co_Cu_mold_W['Alloy'].count()+Au_Cu_mold_W['Alloy'].count()+Hf_Cu_mold_W['Alloy'].count()+Gd_Cu_mold_W['Alloy'].count()+Zr_Cu_mold_W['Alloy'].count()+Ni_Cu_mold_W['Alloy'].count()+Pr_Cu_mold_W['Alloy'].count()+Y_Cu_mold_W['Alloy'].count()+Fe_Cu_mold_W['Alloy'].count()"
   ]
  },
  {
   "cell_type": "code",
   "execution_count": 1724,
   "metadata": {},
   "outputs": [
    {
     "data": {
      "text/plain": [
       "Alloy                 53\n",
       "Tg                    53\n",
       "Tx                    53\n",
       "Tl                    53\n",
       "Dmax                  53\n",
       "Heating_Rate-1        53\n",
       "Heating_Rate-2        53\n",
       "Fabrication_Method    53\n",
       "No of Elements        53\n",
       "dtype: int64"
      ]
     },
     "execution_count": 1724,
     "metadata": {},
     "output_type": "execute_result"
    }
   ],
   "source": [
    "Cu_mold_W.count()"
   ]
  },
  {
   "cell_type": "markdown",
   "metadata": {},
   "source": [
    "# Alloy clustering of Cu_mold_C"
   ]
  },
  {
   "cell_type": "code",
   "execution_count": 1725,
   "metadata": {},
   "outputs": [],
   "source": [
    "Cu_Cu_mold_C = Cu_mold_C[Cu_mold_C['Alloy'].str.startswith('Cu') | Cu_mold_C['Alloy'].str.startswith('(Cu')]\n",
    "Ca_Cu_mold_C = Cu_mold_C[Cu_mold_C['Alloy'].str.startswith('Ca')]\n",
    "Mg_Cu_mold_C = Cu_mold_C[Cu_mold_C['Alloy'].str.startswith('Mg')]\n",
    "La_Cu_mold_C = Cu_mold_C[Cu_mold_C['Alloy'].str.startswith('La')]\n",
    "Pd_Cu_mold_C = Cu_mold_C[Cu_mold_C['Alloy'].str.startswith('Pd')]\n",
    "Ti_Cu_mold_C = Cu_mold_C[Cu_mold_C['Alloy'].str.startswith('Ti') | Cu_mold_C['Alloy'].str.startswith('(Ti')]\n",
    "Co_Cu_mold_C = Cu_mold_C[Cu_mold_C['Alloy'].str.startswith('Co')]\n",
    "Au_Cu_mold_C = Cu_mold_C[Cu_mold_C['Alloy'].str.startswith('Au')]\n",
    "Ag_Cu_mold_C = Cu_mold_C[Cu_mold_C['Alloy'].str.startswith('Ag')]\n",
    "Hf_Cu_mold_C = Cu_mold_C[Cu_mold_C['Alloy'].str.startswith('Hf')]\n",
    "Gd_Cu_mold_C = Cu_mold_C[Cu_mold_C['Alloy'].str.startswith('Gd')]\n",
    "Zr_Cu_mold_C = Cu_mold_C[Cu_mold_C['Alloy'].str.startswith('Zr') | Cu_mold_C['Alloy'].str.startswith('(Zr')]\n",
    "Ni_Cu_mold_C = Cu_mold_C[Cu_mold_C['Alloy'].str.startswith('Ni')]\n",
    "Pr_Cu_mold_C = Cu_mold_C[Cu_mold_C['Alloy'].str.startswith('Pr')]\n",
    "Y_Cu_mold_C = Cu_mold_C[Cu_mold_C['Alloy'].str.startswith('Y')   | Cu_mold_C['Alloy'].str.startswith('(Y')]\n",
    "Fe_Cu_mold_C = Cu_mold_C[Cu_mold_C['Alloy'].str.startswith('Fe') | Cu_mold_C['Alloy'].str.startswith('(Fe') | Cu_mold_C['Alloy'].str.startswith('[(Fe')]"
   ]
  },
  {
   "cell_type": "code",
   "execution_count": 1726,
   "metadata": {},
   "outputs": [
    {
     "data": {
      "text/plain": [
       "2"
      ]
     },
     "execution_count": 1726,
     "metadata": {},
     "output_type": "execute_result"
    }
   ],
   "source": [
    "Cu_Cu_mold_C['Alloy'].count()+Ca_Cu_mold_C['Alloy'].count()+Mg_Cu_mold_C['Alloy'].count()+La_Cu_mold_C['Alloy'].count()+Pd_Cu_mold_C['Alloy'].count()+Ti_Cu_mold_C['Alloy'].count()+Co_Cu_mold_C['Alloy'].count()+Au_Cu_mold_C['Alloy'].count()+Hf_Cu_mold_C['Alloy'].count()+Gd_Cu_mold_C['Alloy'].count()+Zr_Cu_mold_C['Alloy'].count()+Ni_Cu_mold_C['Alloy'].count()+Pr_Cu_mold_C['Alloy'].count()+Y_Cu_mold_C['Alloy'].count()+Fe_Cu_mold_C['Alloy'].count()"
   ]
  },
  {
   "cell_type": "code",
   "execution_count": 1727,
   "metadata": {},
   "outputs": [
    {
     "data": {
      "text/plain": [
       "Alloy                 2\n",
       "Tg                    2\n",
       "Tx                    2\n",
       "Tl                    2\n",
       "Dmax                  2\n",
       "Heating_Rate-1        2\n",
       "Heating_Rate-2        2\n",
       "Fabrication_Method    2\n",
       "No of Elements        2\n",
       "dtype: int64"
      ]
     },
     "execution_count": 1727,
     "metadata": {},
     "output_type": "execute_result"
    }
   ],
   "source": [
    "Cu_mold_C.count()"
   ]
  },
  {
   "cell_type": "markdown",
   "metadata": {},
   "source": [
    "# Alloy clustering of Cu_mold_HPDC"
   ]
  },
  {
   "cell_type": "code",
   "execution_count": 1728,
   "metadata": {},
   "outputs": [],
   "source": [
    "Cu_Cu_mold_HPDC = Cu_mold_HPDC[Cu_mold_HPDC['Alloy'].str.startswith('Cu') | Cu_mold_HPDC['Alloy'].str.startswith('(Cu')]\n",
    "Ca_Cu_mold_HPDC = Cu_mold_HPDC[Cu_mold_HPDC['Alloy'].str.startswith('Ca')]\n",
    "Mg_Cu_mold_HPDC = Cu_mold_HPDC[Cu_mold_HPDC['Alloy'].str.startswith('Mg')]\n",
    "La_Cu_mold_HPDC = Cu_mold_HPDC[Cu_mold_HPDC['Alloy'].str.startswith('La')]\n",
    "Pd_Cu_mold_HPDC = Cu_mold_HPDC[Cu_mold_HPDC['Alloy'].str.startswith('Pd')]\n",
    "Ti_Cu_mold_HPDC = Cu_mold_HPDC[Cu_mold_HPDC['Alloy'].str.startswith('Ti') | Cu_mold_HPDC['Alloy'].str.startswith('(Ti')]\n",
    "Co_Cu_mold_HPDC = Cu_mold_HPDC[Cu_mold_HPDC['Alloy'].str.startswith('Co')]\n",
    "Au_Cu_mold_HPDC = Cu_mold_HPDC[Cu_mold_HPDC['Alloy'].str.startswith('Au')]\n",
    "Ag_Cu_mold_HPDC = Cu_mold_HPDC[Cu_mold_HPDC['Alloy'].str.startswith('Ag')]\n",
    "Hf_Cu_mold_HPDC = Cu_mold_HPDC[Cu_mold_HPDC['Alloy'].str.startswith('Hf')]\n",
    "Gd_Cu_mold_HPDC = Cu_mold_HPDC[Cu_mold_HPDC['Alloy'].str.startswith('Gd')]\n",
    "Zr_Cu_mold_HPDC = Cu_mold_HPDC[Cu_mold_HPDC['Alloy'].str.startswith('Zr') | Cu_mold_HPDC['Alloy'].str.startswith('(Zr')]\n",
    "Ni_Cu_mold_HPDC = Cu_mold_HPDC[Cu_mold_HPDC['Alloy'].str.startswith('Ni')]\n",
    "Pr_Cu_mold_HPDC = Cu_mold_HPDC[Cu_mold_HPDC['Alloy'].str.startswith('Pr')]\n",
    "Y_Cu_mold_HPDC = Cu_mold_HPDC[Cu_mold_HPDC['Alloy'].str.startswith('Y')   | Cu_mold_HPDC['Alloy'].str.startswith('(Y')]\n",
    "Fe_Cu_mold_HPDC = Cu_mold_HPDC[Cu_mold_HPDC['Alloy'].str.startswith('Fe') | Cu_mold_HPDC['Alloy'].str.startswith('(Fe') | Cu_mold_HPDC['Alloy'].str.startswith('[(Fe')]"
   ]
  },
  {
   "cell_type": "code",
   "execution_count": 1729,
   "metadata": {},
   "outputs": [
    {
     "data": {
      "text/plain": [
       "4"
      ]
     },
     "execution_count": 1729,
     "metadata": {},
     "output_type": "execute_result"
    }
   ],
   "source": [
    "Cu_Cu_mold_HPDC['Alloy'].count()+Ca_Cu_mold_HPDC['Alloy'].count()+Mg_Cu_mold_HPDC['Alloy'].count()+La_Cu_mold_HPDC['Alloy'].count()+Pd_Cu_mold_HPDC['Alloy'].count()+Ti_Cu_mold_HPDC['Alloy'].count()+Co_Cu_mold_HPDC['Alloy'].count()+Au_Cu_mold_HPDC['Alloy'].count()+Hf_Cu_mold_HPDC['Alloy'].count()+Gd_Cu_mold_HPDC['Alloy'].count()+Zr_Cu_mold_HPDC['Alloy'].count()+Ni_Cu_mold_HPDC['Alloy'].count()+Pr_Cu_mold_HPDC['Alloy'].count()+Y_Cu_mold_HPDC['Alloy'].count()+Fe_Cu_mold_HPDC['Alloy'].count()"
   ]
  },
  {
   "cell_type": "code",
   "execution_count": 1730,
   "metadata": {},
   "outputs": [
    {
     "data": {
      "text/plain": [
       "Alloy                 4\n",
       "Tg                    4\n",
       "Tx                    4\n",
       "Tl                    4\n",
       "Dmax                  4\n",
       "Heating_Rate-1        4\n",
       "Heating_Rate-2        4\n",
       "Fabrication_Method    4\n",
       "No of Elements        4\n",
       "dtype: int64"
      ]
     },
     "execution_count": 1730,
     "metadata": {},
     "output_type": "execute_result"
    }
   ],
   "source": [
    "Cu_mold_HPDC.count()"
   ]
  },
  {
   "cell_type": "markdown",
   "metadata": {},
   "source": [
    "# Alloy clustering of Melt Spin"
   ]
  },
  {
   "cell_type": "code",
   "execution_count": 1731,
   "metadata": {},
   "outputs": [],
   "source": [
    "Cu_Melt_spin = Melt_spin[Melt_spin['Alloy'].str.startswith('Cu') | Melt_spin['Alloy'].str.startswith('(Cu')]\n",
    "Ca_Melt_spin = Melt_spin[Melt_spin['Alloy'].str.startswith('Ca')]\n",
    "Mg_Melt_spin = Melt_spin[Melt_spin['Alloy'].str.startswith('Mg')]\n",
    "La_Melt_spin = Melt_spin[Melt_spin['Alloy'].str.startswith('La')]\n",
    "Pd_Melt_spin = Melt_spin[Melt_spin['Alloy'].str.startswith('Pd')]\n",
    "Ti_Melt_spin = Melt_spin[Melt_spin['Alloy'].str.startswith('Ti') | Melt_spin['Alloy'].str.startswith('(Ti')]\n",
    "Co_Melt_spin = Melt_spin[Melt_spin['Alloy'].str.startswith('Co')]\n",
    "Au_Melt_spin = Melt_spin[Melt_spin['Alloy'].str.startswith('Au')]\n",
    "Ag_Melt_spin = Melt_spin[Melt_spin['Alloy'].str.startswith('Ag')]\n",
    "Hf_Melt_spin = Melt_spin[Melt_spin['Alloy'].str.startswith('Hf')]\n",
    "Gd_Melt_spin = Melt_spin[Melt_spin['Alloy'].str.startswith('Gd')]\n",
    "Zr_Melt_spin = Melt_spin[Melt_spin['Alloy'].str.startswith('Zr') | Melt_spin['Alloy'].str.startswith('(Zr')]\n",
    "Ni_Melt_spin = Melt_spin[Melt_spin['Alloy'].str.startswith('Ni')]\n",
    "Pr_Melt_spin = Melt_spin[Melt_spin['Alloy'].str.startswith('Pr')]\n",
    "Y_Melt_spin = Melt_spin[Melt_spin['Alloy'].str.startswith('Y')   | Melt_spin['Alloy'].str.startswith('(Y')]\n",
    "Fe_Melt_spin = Melt_spin[Melt_spin['Alloy'].str.startswith('Fe') | Melt_spin['Alloy'].str.startswith('(Fe') | Melt_spin['Alloy'].str.startswith('[(Fe')]"
   ]
  },
  {
   "cell_type": "code",
   "execution_count": 1732,
   "metadata": {},
   "outputs": [
    {
     "data": {
      "text/plain": [
       "2"
      ]
     },
     "execution_count": 1732,
     "metadata": {},
     "output_type": "execute_result"
    }
   ],
   "source": [
    "Cu_Melt_spin['Alloy'].count()+Ca_Melt_spin['Alloy'].count()+Mg_Melt_spin['Alloy'].count()+La_Melt_spin['Alloy'].count()+Pd_Melt_spin['Alloy'].count()+Ti_Melt_spin['Alloy'].count()+Co_Melt_spin['Alloy'].count()+Au_Melt_spin['Alloy'].count()+Hf_Melt_spin['Alloy'].count()+Gd_Melt_spin['Alloy'].count()+Zr_Melt_spin['Alloy'].count()+Ni_Melt_spin['Alloy'].count()+Pr_Melt_spin['Alloy'].count()+Y_Melt_spin['Alloy'].count()+Fe_Melt_spin['Alloy'].count()"
   ]
  },
  {
   "cell_type": "code",
   "execution_count": 1733,
   "metadata": {},
   "outputs": [
    {
     "data": {
      "text/plain": [
       "Alloy                 2\n",
       "Tg                    2\n",
       "Tx                    2\n",
       "Tl                    2\n",
       "Dmax                  2\n",
       "Heating_Rate-1        2\n",
       "Heating_Rate-2        2\n",
       "Fabrication_Method    2\n",
       "No of Elements        2\n",
       "dtype: int64"
      ]
     },
     "execution_count": 1733,
     "metadata": {},
     "output_type": "execute_result"
    }
   ],
   "source": [
    "Melt_spin.count()"
   ]
  },
  {
   "cell_type": "markdown",
   "metadata": {},
   "source": [
    "# Alloy clustering of SiO2 Tube"
   ]
  },
  {
   "cell_type": "code",
   "execution_count": 1734,
   "metadata": {},
   "outputs": [],
   "source": [
    "Cu_SiO2_tube = SiO2_tube[SiO2_tube['Alloy'].str.startswith('Cu') | SiO2_tube['Alloy'].str.startswith('(Cu')]\n",
    "Ca_SiO2_tube = SiO2_tube[SiO2_tube['Alloy'].str.startswith('Ca')]\n",
    "Mg_SiO2_tube = SiO2_tube[SiO2_tube['Alloy'].str.startswith('Mg')]\n",
    "La_SiO2_tube = SiO2_tube[SiO2_tube['Alloy'].str.startswith('La')]\n",
    "Pd_SiO2_tube = SiO2_tube[SiO2_tube['Alloy'].str.startswith('Pd')]\n",
    "Ti_SiO2_tube = SiO2_tube[SiO2_tube['Alloy'].str.startswith('Ti') | SiO2_tube['Alloy'].str.startswith('(Ti')]\n",
    "Co_SiO2_tube = SiO2_tube[SiO2_tube['Alloy'].str.startswith('Co')]\n",
    "Au_SiO2_tube = SiO2_tube[SiO2_tube['Alloy'].str.startswith('Au')]\n",
    "Ag_SiO2_tube = SiO2_tube[SiO2_tube['Alloy'].str.startswith('Ag')]\n",
    "Hf_SiO2_tube = SiO2_tube[SiO2_tube['Alloy'].str.startswith('Hf')]\n",
    "Gd_SiO2_tube = SiO2_tube[SiO2_tube['Alloy'].str.startswith('Gd')]\n",
    "Zr_SiO2_tube = SiO2_tube[SiO2_tube['Alloy'].str.startswith('Zr') | SiO2_tube['Alloy'].str.startswith('(Zr')]\n",
    "Ni_SiO2_tube = SiO2_tube[SiO2_tube['Alloy'].str.startswith('Ni')]\n",
    "Pr_SiO2_tube = SiO2_tube[SiO2_tube['Alloy'].str.startswith('Pr')]\n",
    "Y_SiO2_tube = SiO2_tube[SiO2_tube['Alloy'].str.startswith('Y')   | SiO2_tube['Alloy'].str.startswith('(Y')]\n",
    "Fe_SiO2_tube = SiO2_tube[SiO2_tube['Alloy'].str.startswith('Fe') | SiO2_tube['Alloy'].str.startswith('(Fe') | SiO2_tube['Alloy'].str.startswith('[(Fe')]"
   ]
  },
  {
   "cell_type": "code",
   "execution_count": 1735,
   "metadata": {},
   "outputs": [
    {
     "data": {
      "text/plain": [
       "7"
      ]
     },
     "execution_count": 1735,
     "metadata": {},
     "output_type": "execute_result"
    }
   ],
   "source": [
    "Cu_SiO2_tube['Alloy'].count()+Ca_SiO2_tube['Alloy'].count()+Mg_SiO2_tube['Alloy'].count()+La_SiO2_tube['Alloy'].count()+Pd_SiO2_tube['Alloy'].count()+Ti_SiO2_tube['Alloy'].count()+Co_SiO2_tube['Alloy'].count()+Au_SiO2_tube['Alloy'].count()+Hf_SiO2_tube['Alloy'].count()+Gd_SiO2_tube['Alloy'].count()+Zr_SiO2_tube['Alloy'].count()+Ni_SiO2_tube['Alloy'].count()+Pr_SiO2_tube['Alloy'].count()+Y_SiO2_tube['Alloy'].count()+Fe_SiO2_tube['Alloy'].count()"
   ]
  },
  {
   "cell_type": "code",
   "execution_count": 1736,
   "metadata": {},
   "outputs": [
    {
     "data": {
      "text/plain": [
       "Alloy                 7\n",
       "Tg                    7\n",
       "Tx                    7\n",
       "Tl                    7\n",
       "Dmax                  7\n",
       "Heating_Rate-1        7\n",
       "Heating_Rate-2        7\n",
       "Fabrication_Method    7\n",
       "No of Elements        7\n",
       "dtype: int64"
      ]
     },
     "execution_count": 1736,
     "metadata": {},
     "output_type": "execute_result"
    }
   ],
   "source": [
    "SiO2_tube.count()"
   ]
  },
  {
   "cell_type": "markdown",
   "metadata": {},
   "source": [
    "# Alloy clustering of Cu mold D"
   ]
  },
  {
   "cell_type": "code",
   "execution_count": 1737,
   "metadata": {},
   "outputs": [],
   "source": [
    "Cu_Cu_mold_D = Cu_mold_D[Cu_mold_D['Alloy'].str.startswith('Cu') | Cu_mold_D['Alloy'].str.startswith('(Cu')]\n",
    "Ca_Cu_mold_D = Cu_mold_D[Cu_mold_D['Alloy'].str.startswith('Ca')]\n",
    "Mg_Cu_mold_D = Cu_mold_D[Cu_mold_D['Alloy'].str.startswith('Mg')]\n",
    "La_Cu_mold_D = Cu_mold_D[Cu_mold_D['Alloy'].str.startswith('La')]\n",
    "Pd_Cu_mold_D = Cu_mold_D[Cu_mold_D['Alloy'].str.startswith('Pd')]\n",
    "Ti_Cu_mold_D = Cu_mold_D[Cu_mold_D['Alloy'].str.startswith('Ti') | Cu_mold_D['Alloy'].str.startswith('(Ti')]\n",
    "Co_Cu_mold_D = Cu_mold_D[Cu_mold_D['Alloy'].str.startswith('Co')]\n",
    "Au_Cu_mold_D = Cu_mold_D[Cu_mold_D['Alloy'].str.startswith('Au')]\n",
    "Ag_Cu_mold_D = Cu_mold_D[Cu_mold_D['Alloy'].str.startswith('Ag')]\n",
    "Hf_Cu_mold_D = Cu_mold_D[Cu_mold_D['Alloy'].str.startswith('Hf')]\n",
    "Gd_Cu_mold_D = Cu_mold_D[Cu_mold_D['Alloy'].str.startswith('Gd')]\n",
    "Zr_Cu_mold_D = Cu_mold_D[Cu_mold_D['Alloy'].str.startswith('Zr') | Cu_mold_D['Alloy'].str.startswith('(Zr')]\n",
    "Ni_Cu_mold_D = Cu_mold_D[Cu_mold_D['Alloy'].str.startswith('Ni')]\n",
    "Pr_Cu_mold_D = Cu_mold_D[Cu_mold_D['Alloy'].str.startswith('Pr')]\n",
    "Y_Cu_mold_D = Cu_mold_D[Cu_mold_D['Alloy'].str.startswith('Y')   | Cu_mold_D['Alloy'].str.startswith('(Y')]\n",
    "Fe_Cu_mold_D = Cu_mold_D[Cu_mold_D['Alloy'].str.startswith('Fe') | Cu_mold_D['Alloy'].str.startswith('(Fe') | Cu_mold_D['Alloy'].str.startswith('[(Fe')]"
   ]
  },
  {
   "cell_type": "code",
   "execution_count": 1738,
   "metadata": {},
   "outputs": [
    {
     "data": {
      "text/plain": [
       "10"
      ]
     },
     "execution_count": 1738,
     "metadata": {},
     "output_type": "execute_result"
    }
   ],
   "source": [
    "Cu_Cu_mold_D['Alloy'].count()+Ca_Cu_mold_D['Alloy'].count()+Mg_Cu_mold_D['Alloy'].count()+La_Cu_mold_D['Alloy'].count()+Pd_Cu_mold_D['Alloy'].count()+Ti_Cu_mold_D['Alloy'].count()+Co_Cu_mold_D['Alloy'].count()+Au_Cu_mold_D['Alloy'].count()+Hf_Cu_mold_D['Alloy'].count()+Gd_Cu_mold_D['Alloy'].count()+Zr_Cu_mold_D['Alloy'].count()+Ni_Cu_mold_D['Alloy'].count()+Pr_Cu_mold_D['Alloy'].count()+Y_Cu_mold_D['Alloy'].count()+Fe_Cu_mold_D['Alloy'].count()"
   ]
  },
  {
   "cell_type": "code",
   "execution_count": 1739,
   "metadata": {},
   "outputs": [
    {
     "data": {
      "text/plain": [
       "Alloy                 10\n",
       "Tg                    10\n",
       "Tx                    10\n",
       "Tl                    10\n",
       "Dmax                  10\n",
       "Heating_Rate-1        10\n",
       "Heating_Rate-2        10\n",
       "Fabrication_Method    10\n",
       "No of Elements        10\n",
       "dtype: int64"
      ]
     },
     "execution_count": 1739,
     "metadata": {},
     "output_type": "execute_result"
    }
   ],
   "source": [
    "Cu_mold_D.count()"
   ]
  },
  {
   "cell_type": "markdown",
   "metadata": {},
   "source": [
    "# Alloy clustering of Brass M"
   ]
  },
  {
   "cell_type": "code",
   "execution_count": 1740,
   "metadata": {},
   "outputs": [],
   "source": [
    "Cu_Brass_M = Brass_M[Brass_M['Alloy'].str.startswith('Cu') | Brass_M['Alloy'].str.startswith('(Cu')]\n",
    "Ca_Brass_M = Brass_M[Brass_M['Alloy'].str.startswith('Ca')]\n",
    "Mg_Brass_M = Brass_M[Brass_M['Alloy'].str.startswith('Mg')]\n",
    "La_Brass_M = Brass_M[Brass_M['Alloy'].str.startswith('La')]\n",
    "Pd_Brass_M = Brass_M[Brass_M['Alloy'].str.startswith('Pd')]\n",
    "Ti_Brass_M = Brass_M[Brass_M['Alloy'].str.startswith('Ti') | Brass_M['Alloy'].str.startswith('(Ti')]\n",
    "Co_Brass_M = Brass_M[Brass_M['Alloy'].str.startswith('Co')]\n",
    "Au_Brass_M = Brass_M[Brass_M['Alloy'].str.startswith('Au')]\n",
    "Ag_Brass_M = Brass_M[Brass_M['Alloy'].str.startswith('Ag')]\n",
    "Hf_Brass_M = Brass_M[Brass_M['Alloy'].str.startswith('Hf')]\n",
    "Gd_Brass_M = Brass_M[Brass_M['Alloy'].str.startswith('Gd')]\n",
    "Zr_Brass_M = Brass_M[Brass_M['Alloy'].str.startswith('Zr') | Brass_M['Alloy'].str.startswith('(Zr')]\n",
    "Ni_Brass_M = Brass_M[Brass_M['Alloy'].str.startswith('Ni')]\n",
    "Pr_Brass_M = Brass_M[Brass_M['Alloy'].str.startswith('Pr')]\n",
    "Y_Brass_M = Brass_M[Brass_M['Alloy'].str.startswith('Y')   | Brass_M['Alloy'].str.startswith('(Y')]\n",
    "Fe_Brass_M = Brass_M[Brass_M['Alloy'].str.startswith('Fe') | Brass_M['Alloy'].str.startswith('(Fe') | Brass_M['Alloy'].str.startswith('[(Fe')]"
   ]
  },
  {
   "cell_type": "code",
   "execution_count": 1741,
   "metadata": {},
   "outputs": [
    {
     "data": {
      "text/plain": [
       "3"
      ]
     },
     "execution_count": 1741,
     "metadata": {},
     "output_type": "execute_result"
    }
   ],
   "source": [
    "Cu_Brass_M['Alloy'].count()+Ca_Brass_M['Alloy'].count()+Mg_Brass_M['Alloy'].count()+La_Brass_M['Alloy'].count()+Pd_Brass_M['Alloy'].count()+Ti_Brass_M['Alloy'].count()+Co_Brass_M['Alloy'].count()+Au_Brass_M['Alloy'].count()+Hf_Brass_M['Alloy'].count()+Gd_Brass_M['Alloy'].count()+Zr_Brass_M['Alloy'].count()+Ni_Brass_M['Alloy'].count()+Pr_Brass_M['Alloy'].count()+Y_Brass_M['Alloy'].count()+Fe_Brass_M['Alloy'].count()"
   ]
  },
  {
   "cell_type": "code",
   "execution_count": 1742,
   "metadata": {},
   "outputs": [
    {
     "data": {
      "text/plain": [
       "Alloy                 3\n",
       "Tg                    3\n",
       "Tx                    3\n",
       "Tl                    3\n",
       "Dmax                  3\n",
       "Heating_Rate-1        3\n",
       "Heating_Rate-2        3\n",
       "Fabrication_Method    3\n",
       "No of Elements        3\n",
       "dtype: int64"
      ]
     },
     "execution_count": 1742,
     "metadata": {},
     "output_type": "execute_result"
    }
   ],
   "source": [
    "Brass_M.count()"
   ]
  },
  {
   "cell_type": "markdown",
   "metadata": {},
   "source": [
    "# Alloy clustering of CLELP"
   ]
  },
  {
   "cell_type": "code",
   "execution_count": 1743,
   "metadata": {},
   "outputs": [],
   "source": [
    "Cu_CLELP = CLELP[CLELP['Alloy'].str.startswith('Cu') | CLELP['Alloy'].str.startswith('(Cu')]\n",
    "Ca_CLELP = CLELP[CLELP['Alloy'].str.startswith('Ca')]\n",
    "Mg_CLELP = CLELP[CLELP['Alloy'].str.startswith('Mg')]\n",
    "La_CLELP = CLELP[CLELP['Alloy'].str.startswith('La')]\n",
    "Pd_CLELP = CLELP[CLELP['Alloy'].str.startswith('Pd')]\n",
    "Ti_CLELP = CLELP[CLELP['Alloy'].str.startswith('Ti') | CLELP['Alloy'].str.startswith('(Ti')]\n",
    "Co_CLELP = CLELP[CLELP['Alloy'].str.startswith('Co')]\n",
    "Au_CLELP = CLELP[CLELP['Alloy'].str.startswith('Au')]\n",
    "Ag_CLELP = CLELP[CLELP['Alloy'].str.startswith('Ag')]\n",
    "Hf_CLELP = CLELP[CLELP['Alloy'].str.startswith('Hf')]\n",
    "Gd_CLELP = CLELP[CLELP['Alloy'].str.startswith('Gd')]\n",
    "Zr_CLELP = CLELP[CLELP['Alloy'].str.startswith('Zr') | CLELP['Alloy'].str.startswith('(Zr')]\n",
    "Ni_CLELP = CLELP[CLELP['Alloy'].str.startswith('Ni')]\n",
    "Pr_CLELP = CLELP[CLELP['Alloy'].str.startswith('Pr')]\n",
    "Y_CLELP =  CLELP[CLELP['Alloy'].str.startswith('Y')   | CLELP['Alloy'].str.startswith('(Y')]\n",
    "Fe_CLELP = CLELP[CLELP['Alloy'].str.startswith('Fe') | CLELP['Alloy'].str.startswith('(Fe') | CLELP['Alloy'].str.startswith('[(Fe')]"
   ]
  },
  {
   "cell_type": "code",
   "execution_count": 1744,
   "metadata": {},
   "outputs": [
    {
     "data": {
      "text/plain": [
       "1"
      ]
     },
     "execution_count": 1744,
     "metadata": {},
     "output_type": "execute_result"
    }
   ],
   "source": [
    "Cu_CLELP['Alloy'].count()+Ca_CLELP['Alloy'].count()+Mg_CLELP['Alloy'].count()+La_CLELP['Alloy'].count()+Pd_CLELP['Alloy'].count()+Ti_CLELP['Alloy'].count()+Co_CLELP['Alloy'].count()+Au_CLELP['Alloy'].count()+Hf_CLELP['Alloy'].count()+Gd_CLELP['Alloy'].count()+Zr_CLELP['Alloy'].count()+Ni_CLELP['Alloy'].count()+Pr_CLELP['Alloy'].count()+Y_CLELP['Alloy'].count()+Fe_CLELP['Alloy'].count()"
   ]
  },
  {
   "cell_type": "code",
   "execution_count": 1745,
   "metadata": {},
   "outputs": [
    {
     "data": {
      "text/plain": [
       "Alloy                 1\n",
       "Tg                    1\n",
       "Tx                    1\n",
       "Tl                    1\n",
       "Dmax                  1\n",
       "Heating_Rate-1        1\n",
       "Heating_Rate-2        1\n",
       "Fabrication_Method    1\n",
       "No of Elements        1\n",
       "dtype: int64"
      ]
     },
     "execution_count": 1745,
     "metadata": {},
     "output_type": "execute_result"
    }
   ],
   "source": [
    "CLELP.count()"
   ]
  },
  {
   "cell_type": "markdown",
   "metadata": {},
   "source": [
    "# Clustering based on Number of Elements in Cu_Cu_mold"
   ]
  },
  {
   "cell_type": "code",
   "execution_count": 1746,
   "metadata": {},
   "outputs": [
    {
     "data": {
      "text/plain": [
       "1176.8695652173913"
      ]
     },
     "execution_count": 1746,
     "metadata": {},
     "output_type": "execute_result"
    }
   ],
   "source": [
    "Cu_Cu_mold['Tl'].mean()"
   ]
  },
  {
   "cell_type": "code",
   "execution_count": 1747,
   "metadata": {},
   "outputs": [],
   "source": [
    "distance=[]\n",
    "distance_1 = []\n",
    "def Cu(Tg,Tx,Tl,Dmax):\n",
    "    distance.append(((Tg-Cu_Cu_mold['Tg'].mean())**2+(Tx-Cu_Cu_mold['Tx'].mean())**2+(Tl-Cu_Cu_mold['Tl'].mean())**2+(Dmax-Cu_Cu_mold['Dmax'].mean())**2)**0.5)\n",
    "    distance.append(((Tg-Cu_Cu_mold_S['Tg'].mean())**2+(Tx-Cu_Cu_mold_S['Tx'].mean())**2+(Tl-Cu_Cu_mold_S['Tl'].mean())**2+(Dmax-Cu_Cu_mold_S['Dmax'].mean())**2)**0.5)\n",
    "    distance.append(((Tg-Cu_Cu_mold_I['Tg'].mean())**2+(Tx-Cu_Cu_mold_I['Tx'].mean())**2+(Tl-Cu_Cu_mold_I['Tl'].mean())**2+(Dmax-Cu_Cu_mold_I['Dmax'].mean())**2)**0.5)\n",
    "    distance.append(((Tg-Cu_Cu_mold_W['Tg'].mean())**2+(Tx-Cu_Cu_mold_W['Tx'].mean())**2+(Tl-Cu_Cu_mold_W['Tl'].mean())**2+(Dmax-Cu_Cu_mold_W['Dmax'].mean())**2)**0.5)\n",
    "    distance.append(((Tg-Cu_Cu_mold_C['Tg'].mean())**2+(Tx-Cu_Cu_mold_C['Tx'].mean())**2+(Tl-Cu_Cu_mold_C['Tl'].mean())**2+(Dmax-Cu_Cu_mold_C['Dmax'].mean())**2)**0.5)\n",
    "    distance.append(((Tg-Cu_Cu_mold_HPDC['Tg'].mean())**2+(Tx-Cu_Cu_mold_HPDC['Tx'].mean())**2+(Tl-Cu_Cu_mold_HPDC['Tl'].mean())**2+(Dmax-Cu_Cu_mold_HPDC['Dmax'].mean())**2)**0.5)\n",
    "    distance.append(((Tg-Melt_spin['Tg'].mean())**2+(Tx-Melt_spin['Tx'].mean())**2+(Tl-Melt_spin['Tl'].mean())**2+(Dmax-Melt_spin['Dmax'].mean())**2)**0.5)\n",
    "    distance.append(((Tg-SiO2_tube['Tg'].mean())**2+(Tx-SiO2_tube['Tx'].mean())**2+(Tl-SiO2_tube['Tl'].mean())**2+(Dmax-SiO2_tube['Dmax'].mean())**2)**0.5)\n",
    "    distance.append(((Tg-Brass_M['Tg'].mean())**2+(Tx-Brass_M['Tx'].mean())**2+(Tl-Brass_M['Tl'].mean())**2+(Dmax-Brass_M['Dmax'].mean())**2)**0.5)\n",
    "    distance.append(((Tg-CLELP['Tg'].mean())**2+(Tx-CLELP['Tx'].mean())**2+(Tl-CLELP['Tl'].mean())**2+(Dmax-CLELP['Dmax'].mean())**2)**0.5)\n",
    "    distance.append(((Tg-Cu_mold_D['Tg'].mean())**2+(Tx-Cu_mold_D['Tx'].mean())**2+(Tl-Cu_mold_D['Tl'].mean())**2+(Dmax-Cu_mold_D['Dmax'].mean())**2)**0.5)\n",
    "    \n",
    "    for i in distance:\n",
    "        distance_1[i] = i\n",
    "    print(distance_1)"
   ]
  },
  {
   "cell_type": "code",
   "execution_count": 1748,
   "metadata": {},
   "outputs": [
    {
     "ename": "TypeError",
     "evalue": "list indices must be integers or slices, not float",
     "output_type": "error",
     "traceback": [
      "\u001b[1;31m---------------------------------------------------------------------------\u001b[0m",
      "\u001b[1;31mTypeError\u001b[0m                                 Traceback (most recent call last)",
      "\u001b[1;32m<ipython-input-1748-35a5afaba75b>\u001b[0m in \u001b[0;36m<module>\u001b[1;34m\u001b[0m\n\u001b[1;32m----> 1\u001b[1;33m \u001b[0mCu\u001b[0m\u001b[1;33m(\u001b[0m\u001b[1;36m709\u001b[0m\u001b[1;33m,\u001b[0m\u001b[1;36m762\u001b[0m\u001b[1;33m,\u001b[0m\u001b[1;36m1199\u001b[0m\u001b[1;33m,\u001b[0m\u001b[1;36m1\u001b[0m\u001b[1;33m)\u001b[0m\u001b[1;33m\u001b[0m\u001b[1;33m\u001b[0m\u001b[0m\n\u001b[0m",
      "\u001b[1;32m<ipython-input-1747-f1f285272c7b>\u001b[0m in \u001b[0;36mCu\u001b[1;34m(Tg, Tx, Tl, Dmax)\u001b[0m\n\u001b[0;32m     15\u001b[0m \u001b[1;33m\u001b[0m\u001b[0m\n\u001b[0;32m     16\u001b[0m     \u001b[1;32mfor\u001b[0m \u001b[0mi\u001b[0m \u001b[1;32min\u001b[0m \u001b[0mdistance\u001b[0m\u001b[1;33m:\u001b[0m\u001b[1;33m\u001b[0m\u001b[1;33m\u001b[0m\u001b[0m\n\u001b[1;32m---> 17\u001b[1;33m         \u001b[0mdistance_1\u001b[0m\u001b[1;33m[\u001b[0m\u001b[0mi\u001b[0m\u001b[1;33m]\u001b[0m \u001b[1;33m=\u001b[0m \u001b[0mi\u001b[0m\u001b[1;33m\u001b[0m\u001b[1;33m\u001b[0m\u001b[0m\n\u001b[0m\u001b[0;32m     18\u001b[0m     \u001b[0mprint\u001b[0m\u001b[1;33m(\u001b[0m\u001b[0mdistance_1\u001b[0m\u001b[1;33m)\u001b[0m\u001b[1;33m\u001b[0m\u001b[1;33m\u001b[0m\u001b[0m\n",
      "\u001b[1;31mTypeError\u001b[0m: list indices must be integers or slices, not float"
     ]
    }
   ],
   "source": [
    "Cu(709,762,1199,1)"
   ]
  },
  {
   "cell_type": "code",
   "execution_count": null,
   "metadata": {},
   "outputs": [],
   "source": [
    "2.2<3.2"
   ]
  },
  {
   "cell_type": "code",
   "execution_count": null,
   "metadata": {},
   "outputs": [],
   "source": [
    "a = Cu(413,473,739,7)\n",
    "b = Ca(413,473,739,7)\n",
    "c = Mg(413,473,739,7)"
   ]
  },
  {
   "cell_type": "code",
   "execution_count": null,
   "metadata": {},
   "outputs": [],
   "source": [
    "def Ca(Tg,Tx,Tl,Dmax):\n",
    "    distance2 = ((Tg-Ca_Cu_mold['Tg'].mean())**2+(Tx-Ca_Cu_mold['Tx'].mean())**2+(Tl-Ca_Cu_mold['Tl'].mean())**2+(Dmax-Ca_Cu_mold['Dmax'].mean())**2)**0.5\n",
    "    print(\"Ca\"+\" \"+distance2)\n",
    "def Mg(Tg,Tx,Tl,Dmax):\n",
    "    distance3 = ((Tg-Mg_Cu_mold['Tg'].mean())**2+(Tx-Mg_Cu_mold['Tx'].mean())**2+(Tl-Mg_Cu_mold['Tl'].mean())**2+(Dmax-Mg_Cu_mold['Dmax'].mean())**2)**0.5 \n",
    "    print(\"Mg\"+\" \"+distance3)\n",
    "def La(Tg,Tx,Tl,Dmax):\n",
    "    distance4 = ((Tg-La_Cu_mold['Tg'].mean())**2+(Tx-La_Cu_mold['Tx'].mean())**2+(Tl-La_Cu_mold['Tl'].mean())**2+(Dmax-La_Cu_mold['Dmax'].mean())**2)**0.5\n",
    "    print(\"La\"+\" \"+distance4)\n",
    "def Pd(Tg,Tx,Tl,Dmax):\n",
    "    distance5 = ((Tg-Pd_Cu_mold['Tg'].mean())**2+(Tx-Pd_Cu_mold['Tx'].mean())**2+(Tl-Pd_Cu_mold['Tl'].mean())**2+(Dmax-Pd_Cu_mold['Dmax'].mean())**2)**0.5 \n",
    "    print(\"Pd\"+\" \"+distance5)\n",
    "def Ti(Tg,Tx,Tl,Dmax):\n",
    "    distance6 = ((Tg-Ti_Cu_mold['Tg'].mean())**2+(Tx-Ti_Cu_mold['Tx'].mean())**2+(Tl-Ti_Cu_mold['Tl'].mean())**2+(Dmax-Ti_Cu_mold['Dmax'].mean())**2)**0.5\n",
    "    print(\"Ti\"+\" \"+distance6)\n",
    "def Co(Tg,Tx,Tl,Dmax):\n",
    "    distance7 = ((Tg-Mg_Cu_mold['Tg'].mean())**2+(Tx-Mg_Cu_mold['Tx'].mean())**2+(Tl-Mg_Cu_mold['Tl'].mean())**2+(Dmax-Mg_Cu_mold['Dmax'].mean())**2)**0.5 \n",
    "    print(\"Mg\"+\" \"+distance3)\n",
    "def Au(Tg,Tx,Tl,Dmax):\n",
    "    distance8 = ((Tg-Ca_Cu_mold['Tg'].mean())**2+(Tx-Ca_Cu_mold['Tx'].mean())**2+(Tl-Ca_Cu_mold['Tl'].mean())**2+(Dmax-Ca_Cu_mold['Dmax'].mean())**2)**0.5\n",
    "    print(\"Ca\"+\" \"+distance2)\n",
    "def Ag(Tg,Tx,Tl,Dmax):\n",
    "    distance9 = ((Tg-Mg_Cu_mold['Tg'].mean())**2+(Tx-Mg_Cu_mold['Tx'].mean())**2+(Tl-Mg_Cu_mold['Tl'].mean())**2+(Dmax-Mg_Cu_mold['Dmax'].mean())**2)**0.5 \n",
    "    print(\"Mg\"+\" \"+distance3)\n",
    "def Hf(Tg,Tx,Tl,Dmax):\n",
    "    distance10 = ((Tg-Ca_Cu_mold['Tg'].mean())**2+(Tx-Ca_Cu_mold['Tx'].mean())**2+(Tl-Ca_Cu_mold['Tl'].mean())**2+(Dmax-Ca_Cu_mold['Dmax'].mean())**2)**0.5\n",
    "    print(\"Ca\"+\" \"+distance2)\n",
    "def Gd(Tg,Tx,Tl,Dmax):\n",
    "    distance3 = ((Tg-Mg_Cu_mold['Tg'].mean())**2+(Tx-Mg_Cu_mold['Tx'].mean())**2+(Tl-Mg_Cu_mold['Tl'].mean())**2+(Dmax-Mg_Cu_mold['Dmax'].mean())**2)**0.5 \n",
    "    print(\"Mg\"+\" \"+distance3)    \n",
    "def Zr(Tg,Tx,Tl,Dmax):\n",
    "    distance2 = ((Tg-Ca_Cu_mold['Tg'].mean())**2+(Tx-Ca_Cu_mold['Tx'].mean())**2+(Tl-Ca_Cu_mold['Tl'].mean())**2+(Dmax-Ca_Cu_mold['Dmax'].mean())**2)**0.5\n",
    "    print(\"Ca\"+\" \"+distance2)\n",
    "def Ni(Tg,Tx,Tl,Dmax):\n",
    "    distance3 = ((Tg-Mg_Cu_mold['Tg'].mean())**2+(Tx-Mg_Cu_mold['Tx'].mean())**2+(Tl-Mg_Cu_mold['Tl'].mean())**2+(Dmax-Mg_Cu_mold['Dmax'].mean())**2)**0.5 \n",
    "    print(\"Mg\"+\" \"+distance3)\n",
    "def Pr(Tg,Tx,Tl,Dmax):\n",
    "    distance2 = ((Tg-Ca_Cu_mold['Tg'].mean())**2+(Tx-Ca_Cu_mold['Tx'].mean())**2+(Tl-Ca_Cu_mold['Tl'].mean())**2+(Dmax-Ca_Cu_mold['Dmax'].mean())**2)**0.5\n",
    "    print(\"Ca\"+\" \"+distance2)\n",
    "def Y(Tg,Tx,Tl,Dmax):\n",
    "    distance3 = ((Tg-Mg_Cu_mold['Tg'].mean())**2+(Tx-Mg_Cu_mold['Tx'].mean())**2+(Tl-Mg_Cu_mold['Tl'].mean())**2+(Dmax-Mg_Cu_mold['Dmax'].mean())**2)**0.5 \n",
    "    print(\"Mg\"+\" \"+distance3)\n",
    "def Fe(Tg,Tx,Tl,Dmax):\n",
    "    distance3 = ((Tg-Fe_Cu_mold['Tg'].mean())**2+(Tx-Mg_Cu_mold['Tx'].mean())**2+(Tl-Mg_Cu_mold['Tl'].mean())**2+(Dmax-Mg_Cu_mold['Dmax'].mean())**2)**0.5 \n",
    "    print(\"Mg\"+\" \"+distance3)"
   ]
  },
  {
   "cell_type": "code",
   "execution_count": null,
   "metadata": {},
   "outputs": [],
   "source": [
    "Cu_Cu_mold_W"
   ]
  },
  {
   "cell_type": "code",
   "execution_count": null,
   "metadata": {},
   "outputs": [],
   "source": []
  }
 ],
 "metadata": {
  "kernelspec": {
   "display_name": "Python 3",
   "language": "python",
   "name": "python3"
  },
  "language_info": {
   "codemirror_mode": {
    "name": "ipython",
    "version": 3
   },
   "file_extension": ".py",
   "mimetype": "text/x-python",
   "name": "python",
   "nbconvert_exporter": "python",
   "pygments_lexer": "ipython3",
   "version": "3.8.3"
  }
 },
 "nbformat": 4,
 "nbformat_minor": 4
}
