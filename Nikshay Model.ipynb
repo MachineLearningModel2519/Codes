distance=[]
distance_1 = []
def Cu(Tg,Tx,Tl,Dmax):
    distance.append(((Tg-Cu_Cu_mold['Tg'].mean())**2+(Tx-Cu_Cu_mold['Tx'].mean())**2+(Tl-Cu_Cu_mold['Tl'].mean())**2+(Dmax-Cu_Cu_mold['Dmax'].mean())**2)**0.5)
    
    distance.append(((Tg-Cu_Cu_mold_S['Tg'].mean())**2+(Tx-Cu_Cu_mold_S['Tx'].mean())**2+(Tl-Cu_Cu_mold_S['Tl'].mean())**2+(Dmax-Cu_Cu_mold_S['Dmax'].mean())**2)**0.5)
    
    distance.append(((Tg-Cu_Cu_mold_I['Tg'].mean())**2+(Tx-Cu_Cu_mold_I['Tx'].mean())**2+(Tl-Cu_Cu_mold_I['Tl'].mean())**2+(Dmax-Cu_Cu_mold_I['Dmax'].mean())**2)**0.5)
    
    distance.append(((Tg-Cu_Cu_mold_W['Tg'].mean())**2+(Tx-Cu_Cu_mold_W['Tx'].mean())**2+(Tl-Cu_Cu_mold_W['Tl'].mean())**2+(Dmax-Cu_Cu_mold_W['Dmax'].mean())**2)**0.5)
    
    distance.append(((Tg-Cu_Cu_mold_C['Tg'].mean())**2+(Tx-Cu_Cu_mold_C['Tx'].mean())**2+(Tl-Cu_Cu_mold_C['Tl'].mean())**2+(Dmax-Cu_Cu_mold_C['Dmax'].mean())**2)**0.5)
    
    distance.append(((Tg-Cu_Cu_mold_HPDC['Tg'].mean())**2+(Tx-Cu_Cu_mold_HPDC['Tx'].mean())**2+(Tl-Cu_Cu_mold_HPDC['Tl'].mean())**2+(Dmax-Cu_Cu_mold_HPDC['Dmax'].mean())**2)**0.5)
    
    distance.append(((Tg-Cu_Melt_spin['Tg'].mean())**2+(Tx-Cu_Melt_spin['Tx'].mean())**2+(Tl-Cu_Melt_spin['Tl'].mean())**2+(Dmax-Cu_Melt_spin['Dmax'].mean())**2)**0.5)
    
    distance.append(((Tg-Cu_SiO2_tube['Tg'].mean())**2+(Tx-Cu_SiO2_tube['Tx'].mean())**2+(Tl-Cu_SiO2_tube['Tl'].mean())**2+(Dmax-Cu_SiO2_tube['Dmax'].mean())**2)**0.5)
    
    distance.append(((Tg-Cu_Brass_M['Tg'].mean())**2+(Tx-Cu_Brass_M['Tx'].mean())**2+(Tl-Cu_Brass_M['Tl'].mean())**2+(Dmax-Cu_Brass_M['Dmax'].mean())**2)**0.5)
    
    distance.append(((Tg-Cu_CLELP['Tg'].mean())**2+(Tx-Cu_CLELP['Tx'].mean())**2+(Tl-Cu_CLELP['Tl'].mean())**2+(Dmax-Cu_CLELP['Dmax'].mean())**2)**0.5)
    
    distance.append(((Tg-Cu_Cu_mold_D['Tg'].mean())**2+(Tx-Cu_Cu_mold_D['Tx'].mean())**2+(Tl-Cu_Cu_mold_D['Tl'].mean())**2+(Dmax-Cu_Cu_mold_D['Dmax'].mean())**2)**0.5)
    
    print(distance)
    distance_1 = [x for x in distance if ~np.isnan(x)]
    
    key = min(distance_1)
    for i in range(0,11):
        if key == distance[i]:
            index = i
    print(distance_1)
    
    if (index == 0):
        print("Fabrication Method: Cu mold")
    elif(index == 1):
        print("Fabrication Method: Cu mold S")
    elif(index == 2):
        print("Fabrication Method: Cu mold I")
    elif(index == 3):
        print("Fabrication Method: Cu mold W")
    elif(index == 4):
        print("Fabrication Method: Cu mold C")
    elif(index == 5):
        print("Fabrication Method: Cu mold HPDC")
    elif(index == 6):
        print("Fabrication Method: Melt Spin")
    elif(index == 7):
        print("Fabrication Method: SiO2 Tube")
    elif(index == 8):
        print("Fabrication Method: Brass M")
    elif(index == 9):
        print("Fabrication Method: CLELP")
    elif(index == 10):
        print("Fabrication Method: Cu mold D")
       
