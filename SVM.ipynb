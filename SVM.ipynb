{
 "cells": [
  {
   "cell_type": "code",
   "execution_count": 84,
   "metadata": {},
   "outputs": [
    {
     "name": "stdout",
     "output_type": "stream",
     "text": [
      "    total_runs  out  numberofballs  average  strikerate\n",
      "0         5426  152           4111       35         131\n",
      "1         5386  160           3916       33         137\n",
      "2         4902  161           3742       30         130\n",
      "3         4717  114           3292       41         143\n",
      "4         4601  137           3665       33         125\n",
      "5         4525  110           2972       41         152\n",
      "6         4450  118           3206       37         138\n",
      "7         4420  156           3381       28         130\n",
      "8         4414  104           2902       42         152\n",
      "9         4219  134           3400       31         124\n",
      "10        3834  117           3133       32         122\n",
      "11        3669  138           2813       26         130\n",
      "12        3590  115           2566       31         139\n",
      "13        3313  114           2616       29         126\n",
      "14        3222  110           2240       29         143\n",
      "15        2886  106           2185       27         132\n",
      "16        2864  127           2352       22         121\n",
      "17        2855   95           2352       30         121\n",
      "18        2772  102           1879       27         147\n"
     ]
    }
   ],
   "source": [
    "import pandas as pd\n",
    "data = pd.read_csv(\"Sample.csv\")\n",
    "print(data)"
   ]
  },
  {
   "cell_type": "code",
   "execution_count": 102,
   "metadata": {},
   "outputs": [],
   "source": [
    "from sklearn.model_selection import train_test_split\n",
    "training_set, test_set = train_test_split(data, test_size = 0.8, random_state = 1)"
   ]
  },
  {
   "cell_type": "code",
   "execution_count": 103,
   "metadata": {},
   "outputs": [
    {
     "name": "stdout",
     "output_type": "stream",
     "text": [
      "    total_runs  out  numberofballs  average  strikerate\n",
      "12        3590  115           2566       31         139\n",
      "11        3669  138           2813       26         130\n",
      "5         4525  110           2972       41         152\n"
     ]
    }
   ],
   "source": [
    "print(training_set)"
   ]
  },
  {
   "cell_type": "code",
   "execution_count": 104,
   "metadata": {},
   "outputs": [
    {
     "name": "stdout",
     "output_type": "stream",
     "text": [
      "    total_runs  out  numberofballs  average  strikerate\n",
      "3         4717  114           3292       41         143\n",
      "15        2886  106           2185       27         132\n",
      "6         4450  118           3206       37         138\n",
      "10        3834  117           3133       32         122\n",
      "2         4902  161           3742       30         130\n",
      "14        3222  110           2240       29         143\n",
      "4         4601  137           3665       33         125\n",
      "16        2864  127           2352       22         121\n",
      "7         4420  156           3381       28         130\n",
      "1         5386  160           3916       33         137\n",
      "13        3313  114           2616       29         126\n",
      "0         5426  152           4111       35         131\n",
      "18        2772  102           1879       27         147\n",
      "17        2855   95           2352       30         121\n",
      "9         4219  134           3400       31         124\n",
      "8         4414  104           2902       42         152\n"
     ]
    }
   ],
   "source": [
    "print(test_set)"
   ]
  },
  {
   "cell_type": "code",
   "execution_count": 105,
   "metadata": {},
   "outputs": [],
   "source": [
    "X_train = training_set.iloc[:,0:4].values\n",
    "Y_train = training_set.iloc[:,4].values\n",
    "X_test = test_set.iloc[:,0:4].values\n",
    "Y_test = test_set.iloc[:,4].values"
   ]
  },
  {
   "cell_type": "code",
   "execution_count": 106,
   "metadata": {},
   "outputs": [
    {
     "data": {
      "text/plain": [
       "array([[3590,  115, 2566,   31],\n",
       "       [3669,  138, 2813,   26],\n",
       "       [4525,  110, 2972,   41]], dtype=int64)"
      ]
     },
     "execution_count": 106,
     "metadata": {},
     "output_type": "execute_result"
    }
   ],
   "source": [
    "X_train"
   ]
  },
  {
   "cell_type": "code",
   "execution_count": 107,
   "metadata": {},
   "outputs": [
    {
     "data": {
      "text/plain": [
       "array([139, 130, 152], dtype=int64)"
      ]
     },
     "execution_count": 107,
     "metadata": {},
     "output_type": "execute_result"
    }
   ],
   "source": [
    "Y_train"
   ]
  },
  {
   "cell_type": "code",
   "execution_count": 108,
   "metadata": {},
   "outputs": [
    {
     "name": "stderr",
     "output_type": "stream",
     "text": [
      "D:\\anaconda\\lib\\site-packages\\sklearn\\svm\\base.py:196: FutureWarning: The default value of gamma will change from 'auto' to 'scale' in version 0.22 to account better for unscaled features. Set gamma explicitly to 'auto' or 'scale' to avoid this warning.\n",
      "  \"avoid this warning.\", FutureWarning)\n"
     ]
    },
    {
     "data": {
      "text/plain": [
       "SVC(C=1.0, cache_size=200, class_weight=None, coef0=0.0,\n",
       "  decision_function_shape='ovr', degree=3, gamma='auto_deprecated',\n",
       "  kernel='rbf', max_iter=-1, probability=False, random_state=1,\n",
       "  shrinking=True, tol=0.001, verbose=False)"
      ]
     },
     "execution_count": 108,
     "metadata": {},
     "output_type": "execute_result"
    }
   ],
   "source": [
    "from sklearn.svm import SVC\n",
    "classifier = SVC(kernel='rbf', random_state = 1)\n",
    "classifier.fit(X_train,Y_train)"
   ]
  },
  {
   "cell_type": "code",
   "execution_count": 109,
   "metadata": {},
   "outputs": [],
   "source": [
    "Y_pred = classifier.predict(X_test)"
   ]
  },
  {
   "cell_type": "code",
   "execution_count": 110,
   "metadata": {},
   "outputs": [
    {
     "name": "stderr",
     "output_type": "stream",
     "text": [
      "D:\\anaconda\\lib\\site-packages\\ipykernel_launcher.py:1: SettingWithCopyWarning: \n",
      "A value is trying to be set on a copy of a slice from a DataFrame.\n",
      "Try using .loc[row_indexer,col_indexer] = value instead\n",
      "\n",
      "See the caveats in the documentation: http://pandas.pydata.org/pandas-docs/stable/indexing.html#indexing-view-versus-copy\n",
      "  \"\"\"Entry point for launching an IPython kernel.\n"
     ]
    }
   ],
   "source": [
    "test_set[\"Predictions\"] = Y_pred"
   ]
  },
  {
   "cell_type": "code",
   "execution_count": 111,
   "metadata": {},
   "outputs": [
    {
     "name": "stdout",
     "output_type": "stream",
     "text": [
      "    total_runs  out  numberofballs  average  strikerate  Predictions\n",
      "3         4717  114           3292       41         143          152\n",
      "15        2886  106           2185       27         132          152\n",
      "6         4450  118           3206       37         138          152\n",
      "10        3834  117           3133       32         122          152\n",
      "2         4902  161           3742       30         130          152\n",
      "14        3222  110           2240       29         143          152\n",
      "4         4601  137           3665       33         125          152\n",
      "16        2864  127           2352       22         121          152\n",
      "7         4420  156           3381       28         130          152\n",
      "1         5386  160           3916       33         137          152\n",
      "13        3313  114           2616       29         126          152\n",
      "0         5426  152           4111       35         131          152\n",
      "18        2772  102           1879       27         147          152\n",
      "17        2855   95           2352       30         121          152\n",
      "9         4219  134           3400       31         124          152\n",
      "8         4414  104           2902       42         152          152\n"
     ]
    }
   ],
   "source": [
    "print(test_set)"
   ]
  },
  {
   "cell_type": "code",
   "execution_count": 112,
   "metadata": {},
   "outputs": [
    {
     "name": "stdout",
     "output_type": "stream",
     "text": [
      "\n",
      "Accuracy Of SVM For The Given Dataset :  0.0625\n"
     ]
    }
   ],
   "source": [
    "from sklearn.metrics import confusion_matrix\n",
    "cm = confusion_matrix(Y_test,Y_pred)\n",
    "accuracy = float(cm.diagonal().sum())/len(Y_test)\n",
    "print(\"\\nAccuracy Of SVM For The Given Dataset : \", accuracy)"
   ]
  },
  {
   "cell_type": "code",
   "execution_count": null,
   "metadata": {},
   "outputs": [],
   "source": []
  }
 ],
 "metadata": {
  "kernelspec": {
   "display_name": "Python 3",
   "language": "python",
   "name": "python3"
  },
  "language_info": {
   "codemirror_mode": {
    "name": "ipython",
    "version": 3
   },
   "file_extension": ".py",
   "mimetype": "text/x-python",
   "name": "python",
   "nbconvert_exporter": "python",
   "pygments_lexer": "ipython3",
   "version": "3.7.1"
  }
 },
 "nbformat": 4,
 "nbformat_minor": 2
}
